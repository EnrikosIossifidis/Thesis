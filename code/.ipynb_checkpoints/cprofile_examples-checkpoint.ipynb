{
 "cells": [
  {
   "cell_type": "code",
   "execution_count": 1,
   "metadata": {},
   "outputs": [],
   "source": [
    "def create_array():\n",
    "    arr=[]\n",
    "    for i in range(0,400000):\n",
    "        arr.append(i)\n",
    "\n",
    "def print_statement():\n",
    "    print('Array created successfully')\n",
    "\n",
    "def main():\n",
    "    create_array()\n",
    "    print_statement()"
   ]
  },
  {
   "cell_type": "markdown",
   "metadata": {},
   "source": [
    "    ncalls : Shows the number of calls made\n",
    "    tottime: Total time taken by the given function. Note that the time made in calls to sub-functions are excluded.\n",
    "    percall: Total time / No of calls. ( remainder is left out )\n",
    "    cumtime: Unlike tottime, this includes time spent in this and all subfunctions that the higher-level function calls. It is most useful and is accurate for recursive functions.\n",
    "    The percall following cumtime is calculated as the quotient of cumtime divided by primitive calls. The primitive calls include all the calls that were not included through recursion."
   ]
  },
  {
   "cell_type": "code",
   "execution_count": 3,
   "metadata": {},
   "outputs": [
    {
     "name": "stdout",
     "output_type": "stream",
     "text": [
      "Array created successfully\n",
      "         400041 function calls in 0.088 seconds\n",
      "\n",
      "   Ordered by: standard name\n",
      "\n",
      "   ncalls  tottime  percall  cumtime  percall filename:lineno(function)\n",
      "        1    0.054    0.054    0.083    0.083 <ipython-input-1-3b91064ac4ac>:1(create_array)\n",
      "        1    0.000    0.000    0.000    0.000 <ipython-input-1-3b91064ac4ac>:6(print_statement)\n",
      "        1    0.005    0.005    0.088    0.088 <ipython-input-1-3b91064ac4ac>:9(main)\n",
      "        1    0.000    0.000    0.088    0.088 <string>:1(<module>)\n",
      "        3    0.000    0.000    0.000    0.000 iostream.py:195(schedule)\n",
      "        2    0.000    0.000    0.000    0.000 iostream.py:307(_is_master_process)\n",
      "        2    0.000    0.000    0.000    0.000 iostream.py:320(_schedule_flush)\n",
      "        2    0.000    0.000    0.000    0.000 iostream.py:382(write)\n",
      "        3    0.000    0.000    0.000    0.000 iostream.py:93(_event_pipe)\n",
      "        3    0.000    0.000    0.000    0.000 socket.py:334(send)\n",
      "        3    0.000    0.000    0.000    0.000 threading.py:1038(_wait_for_tstate_lock)\n",
      "        3    0.000    0.000    0.000    0.000 threading.py:1080(is_alive)\n",
      "        3    0.000    0.000    0.000    0.000 threading.py:507(is_set)\n",
      "        1    0.000    0.000    0.088    0.088 {built-in method builtins.exec}\n",
      "        2    0.000    0.000    0.000    0.000 {built-in method builtins.isinstance}\n",
      "        1    0.000    0.000    0.000    0.000 {built-in method builtins.print}\n",
      "        2    0.000    0.000    0.000    0.000 {built-in method nt.getpid}\n",
      "        3    0.000    0.000    0.000    0.000 {method 'acquire' of '_thread.lock' objects}\n",
      "        3    0.000    0.000    0.000    0.000 {method 'append' of 'collections.deque' objects}\n",
      "   400000    0.028    0.000    0.028    0.000 {method 'append' of 'list' objects}\n",
      "        1    0.000    0.000    0.000    0.000 {method 'disable' of '_lsprof.Profiler' objects}\n",
      "\n",
      "\n"
     ]
    }
   ],
   "source": [
    "if __name__ == '__main__':\n",
    "    import cProfile\n",
    "    cProfile.run('main()')"
   ]
  },
  {
   "cell_type": "markdown",
   "metadata": {},
   "source": [
    "If your aim is to find the time-consuming parts, it would be helpful to sort the outputs as per ncalls. To do this,\n",
    "\n",
    "    First, initialize an instance of Profile class.\n",
    "    After that, call the enable() method of the profiler to start collecting profiling data.\n",
    "    After that, call the function you want to profile.\n",
    "    To stop collecting profiling data, call the disable() method.\n",
    "\n",
    "The pstats module can be used to manipulate the results collected by the profiler object. First, create an instance of the stats class using pstats.Stats. Next, use the Stats class to create a statistics object from a profile object through stats= pstats.Stats(profiler).Now, to sort the output by ncalls, use the sort_stats() method as shown below. Finally to print the output, call the function print_statss() of stats object."
   ]
  },
  {
   "cell_type": "code",
   "execution_count": 10,
   "metadata": {},
   "outputs": [
    {
     "name": "stdout",
     "output_type": "stream",
     "text": [
      "Array created successfully\n",
      "         400039 function calls in 0.095 seconds\n",
      "\n",
      "   Ordered by: cumulative time\n",
      "\n",
      "   ncalls  tottime  percall  cumtime  percall filename:lineno(function)\n",
      "        1    0.005    0.005    0.095    0.095 <ipython-input-1-3b91064ac4ac>:9(main)\n",
      "        1    0.061    0.061    0.090    0.090 <ipython-input-1-3b91064ac4ac>:1(create_array)\n",
      "   400000    0.030    0.000    0.030    0.000 {method 'append' of 'list' objects}\n",
      "        1    0.000    0.000    0.000    0.000 <ipython-input-1-3b91064ac4ac>:6(print_statement)\n",
      "        1    0.000    0.000    0.000    0.000 {built-in method builtins.print}\n",
      "        2    0.000    0.000    0.000    0.000 C:\\Users\\enrik\\Anaconda3\\lib\\site-packages\\ipykernel\\iostream.py:382(write)\n",
      "        3    0.000    0.000    0.000    0.000 C:\\Users\\enrik\\Anaconda3\\lib\\site-packages\\ipykernel\\iostream.py:195(schedule)\n",
      "        3    0.000    0.000    0.000    0.000 C:\\Users\\enrik\\Anaconda3\\lib\\site-packages\\zmq\\sugar\\socket.py:334(send)\n",
      "        3    0.000    0.000    0.000    0.000 C:\\Users\\enrik\\Anaconda3\\lib\\threading.py:1080(is_alive)\n",
      "        2    0.000    0.000    0.000    0.000 C:\\Users\\enrik\\Anaconda3\\lib\\site-packages\\ipykernel\\iostream.py:320(_schedule_flush)\n",
      "        3    0.000    0.000    0.000    0.000 C:\\Users\\enrik\\Anaconda3\\lib\\threading.py:1038(_wait_for_tstate_lock)\n",
      "        2    0.000    0.000    0.000    0.000 C:\\Users\\enrik\\Anaconda3\\lib\\site-packages\\ipykernel\\iostream.py:307(_is_master_process)\n",
      "        3    0.000    0.000    0.000    0.000 C:\\Users\\enrik\\Anaconda3\\lib\\site-packages\\ipykernel\\iostream.py:93(_event_pipe)\n",
      "        3    0.000    0.000    0.000    0.000 {method 'acquire' of '_thread.lock' objects}\n",
      "        2    0.000    0.000    0.000    0.000 {built-in method nt.getpid}\n",
      "        3    0.000    0.000    0.000    0.000 C:\\Users\\enrik\\Anaconda3\\lib\\threading.py:507(is_set)\n",
      "        3    0.000    0.000    0.000    0.000 {method 'append' of 'collections.deque' objects}\n",
      "        2    0.000    0.000    0.000    0.000 {built-in method builtins.isinstance}\n",
      "        1    0.000    0.000    0.000    0.000 {method 'disable' of '_lsprof.Profiler' objects}\n",
      "\n",
      "\n"
     ]
    }
   ],
   "source": [
    "if __name__ == '__main__':\n",
    "    import cProfile, pstats\n",
    "    profiler = cProfile.Profile()\n",
    "    profiler.enable()\n",
    "    main()\n",
    "    profiler.disable()\n",
    "    stats = pstats.Stats(profiler).sort_stats('cumtime')\n",
    "    stats.print_stats()"
   ]
  },
  {
   "cell_type": "markdown",
   "metadata": {},
   "source": [
    "## Store and export cprofile data"
   ]
  },
  {
   "cell_type": "code",
   "execution_count": 16,
   "metadata": {},
   "outputs": [],
   "source": [
    "stats = pstats.Stats(profiler)\n",
    "stats.dump_stats('./test')"
   ]
  },
  {
   "cell_type": "code",
   "execution_count": 22,
   "metadata": {},
   "outputs": [
    {
     "name": "stdout",
     "output_type": "stream",
     "text": [
      "Program completed\n",
      "Program completed\n",
      "Program completed\n",
      "Program completed\n",
      "Program completed\n",
      "Program completed\n",
      "Program completed\n",
      "Program completed\n",
      "Program completed\n",
      "Program completed\n",
      "         5568 function calls in 0.003 seconds\n",
      "\n",
      "   Ordered by: internal time\n",
      "\n",
      "   ncalls  tottime  percall  cumtime  percall filename:lineno(function)\n",
      "     1000    0.001    0.000    0.002    0.000 random.py:174(randrange)\n",
      "     1000    0.001    0.000    0.001    0.000 random.py:224(_randbelow)\n",
      "     1000    0.000    0.000    0.002    0.000 random.py:218(randint)\n",
      "        1    0.000    0.000    0.002    0.002 <ipython-input-22-39a03a449d62>:9(<listcomp>)\n",
      "       21    0.000    0.000    0.000    0.000 socket.py:334(send)\n",
      "     1284    0.000    0.000    0.000    0.000 {method 'getrandbits' of '_random.Random' objects}\n",
      "     1000    0.000    0.000    0.000    0.000 {method 'bit_length' of 'int' objects}\n",
      "        1    0.000    0.000    0.000    0.000 <ipython-input-22-39a03a449d62>:12(search_function)\n",
      "       20    0.000    0.000    0.000    0.000 iostream.py:382(write)\n",
      "       21    0.000    0.000    0.000    0.000 iostream.py:195(schedule)\n",
      "       10    0.000    0.000    0.000    0.000 {built-in method builtins.print}\n",
      "       21    0.000    0.000    0.000    0.000 threading.py:1080(is_alive)\n",
      "       20    0.000    0.000    0.000    0.000 iostream.py:307(_is_master_process)\n",
      "        1    0.000    0.000    0.000    0.000 <ipython-input-22-39a03a449d62>:4(print_msg)\n",
      "       21    0.000    0.000    0.000    0.000 {method 'acquire' of '_thread.lock' objects}\n",
      "       21    0.000    0.000    0.000    0.000 threading.py:1038(_wait_for_tstate_lock)\n",
      "       21    0.000    0.000    0.000    0.000 iostream.py:93(_event_pipe)\n",
      "       20    0.000    0.000    0.000    0.000 iostream.py:320(_schedule_flush)\n",
      "       20    0.000    0.000    0.000    0.000 {built-in method builtins.isinstance}\n",
      "       20    0.000    0.000    0.000    0.000 {built-in method nt.getpid}\n",
      "       21    0.000    0.000    0.000    0.000 threading.py:507(is_set)\n",
      "        1    0.000    0.000    0.002    0.002 <ipython-input-22-39a03a449d62>:8(generate)\n",
      "        1    0.000    0.000    0.003    0.003 <ipython-input-22-39a03a449d62>:17(main)\n",
      "       21    0.000    0.000    0.000    0.000 {method 'append' of 'collections.deque' objects}\n",
      "        1    0.000    0.000    0.000    0.000 {method 'disable' of '_lsprof.Profiler' objects}\n",
      "\n",
      "\n"
     ]
    }
   ],
   "source": [
    "# Using cProfile.Profile example\n",
    "import random\n",
    "\n",
    "def print_msg():\n",
    "    for i in range(10):\n",
    "        print(\"Program completed\")\n",
    "\n",
    "def generate():\n",
    "    data = [random.randint(0, 99) for p in range(0, 1000)]\n",
    "    return data\n",
    "\n",
    "def search_function(data):\n",
    "    for i in data:\n",
    "        if i in [100,200,300,400,500]:\n",
    "            print(\"success\")\n",
    "\n",
    "def main():\n",
    "    data=generate()\n",
    "    search_function(data)\n",
    "    print_msg()\n",
    "\n",
    "if __name__ == '__main__':\n",
    "    import cProfile, pstats\n",
    "    profiler = cProfile.Profile()\n",
    "    profiler.enable()\n",
    "    main()\n",
    "    profiler.disable()\n",
    "    stats = pstats.Stats(profiler).sort_stats('tottime')\n",
    "    stats.strip_dirs() # remove path information from file names\n",
    "    stats.sort_stats('tottime')\n",
    "    stats.print_stats() # note that strippe cprofile has random order"
   ]
  },
  {
   "cell_type": "code",
   "execution_count": 36,
   "metadata": {},
   "outputs": [
    {
     "name": "stdout",
     "output_type": "stream",
     "text": [
      "Program completed\n",
      "Program completed\n",
      "Program completed\n",
      "Program completed\n",
      "Program completed\n",
      "Program completed\n",
      "Program completed\n",
      "Program completed\n",
      "Program completed\n",
      "Program completed\n"
     ]
    },
    {
     "data": {
      "text/plain": [
       "<pstats.Stats at 0x24002eaa828>"
      ]
     },
     "execution_count": 36,
     "metadata": {},
     "output_type": "execute_result"
    }
   ],
   "source": [
    "import cProfile, pstats, io\n",
    "from pstats import SortKey\n",
    "pr = cProfile.Profile()\n",
    "pr.enable()\n",
    "main()\n",
    "pr.disable()\n",
    "s = io.StringIO()\n",
    "sortby = SortKey.CUMULATIVE\n",
    "ps = pstats.Stats(pr, stream=s).sort_stats(sortby)\n",
    "ps.print_stats(10)"
   ]
  },
  {
   "cell_type": "code",
   "execution_count": null,
   "metadata": {},
   "outputs": [],
   "source": []
  }
 ],
 "metadata": {
  "kernelspec": {
   "display_name": "Python 3",
   "language": "python",
   "name": "python3"
  },
  "language_info": {
   "codemirror_mode": {
    "name": "ipython",
    "version": 3
   },
   "file_extension": ".py",
   "mimetype": "text/x-python",
   "name": "python",
   "nbconvert_exporter": "python",
   "pygments_lexer": "ipython3",
   "version": "3.7.0"
  }
 },
 "nbformat": 4,
 "nbformat_minor": 2
}
