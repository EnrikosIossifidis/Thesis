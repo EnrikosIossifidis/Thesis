{
 "cells": [
  {
   "cell_type": "code",
   "execution_count": 246,
   "metadata": {},
   "outputs": [],
   "source": [
    "import glob\n",
    "import os\n",
    "import time"
   ]
  },
  {
   "cell_type": "code",
   "execution_count": 247,
   "metadata": {},
   "outputs": [
    {
     "ename": "NameError",
     "evalue": "name 'dir_name' is not defined",
     "output_type": "error",
     "traceback": [
      "\u001b[1;31m---------------------------------------------------------------------------\u001b[0m",
      "\u001b[1;31mNameError\u001b[0m                                 Traceback (most recent call last)",
      "\u001b[1;32m<ipython-input-247-cdc0de0fa162>\u001b[0m in \u001b[0;36m<module>\u001b[1;34m()\u001b[0m\n\u001b[0;32m      1\u001b[0m \u001b[1;31m# Get list of all files only in the given directory\u001b[0m\u001b[1;33m\u001b[0m\u001b[1;33m\u001b[0m\u001b[0m\n\u001b[0;32m      2\u001b[0m list_of_files = filter( os.path.isfile,\n\u001b[1;32m----> 3\u001b[1;33m                         glob.glob(dir_name + '*') )\n\u001b[0m\u001b[0;32m      4\u001b[0m \u001b[1;31m# Sort list of files based on last modification time in ascending order\u001b[0m\u001b[1;33m\u001b[0m\u001b[1;33m\u001b[0m\u001b[0m\n\u001b[0;32m      5\u001b[0m list_of_files = sorted( list_of_files,\n",
      "\u001b[1;31mNameError\u001b[0m: name 'dir_name' is not defined"
     ]
    }
   ],
   "source": [
    "# Get list of all files only in the given directory\n",
    "list_of_files = filter( os.path.isfile,\n",
    "                        glob.glob(dir_name + '*') )\n",
    "# Sort list of files based on last modification time in ascending order\n",
    "list_of_files = sorted( list_of_files,\n",
    "                        key = os.path.getmtime)\n",
    "# Iterate over sorted list of files and print file path \n",
    "# along with last modification time of file \n",
    "for file_path in list_of_files:\n",
    "    timestamp_str = time.strftime(  '%m/%d/%Y :: %H:%M:%S',\n",
    "                                time.gmtime(os.path.getmtime(file_path))) \n",
    "    print(timestamp_str, ' -->', file_path) "
   ]
  },
  {
   "cell_type": "code",
   "execution_count": 255,
   "metadata": {},
   "outputs": [
    {
     "name": "stdout",
     "output_type": "stream",
     "text": [
      "['python2_exp0_X2_Y1_States3.json', 'python2_exp0_X2_Y1_States2.json', 'python3_exp0_X2_Y1_States2.json', 'exp0.pkl', 'python2_exp1_X2_Y1_States2.json', 'python2_exp2_X2_Y1_States2.json', 'python2_exp3_X2_Y1_States2.json', 'python2_exp4_X2_Y1_States2.json']\n"
     ]
    }
   ],
   "source": [
    "import os\n",
    "import time\n",
    "dir_name = 'C:/Users/enrik/Desktop/Mabomba/Studie/MasterCS/Thesis/code/jointpdf/experiments/data_acc_speed/'\n",
    "# Get list of all files only in the given directory\n",
    "list_of_files = filter( lambda x: os.path.isfile(os.path.join(dir_name, x)),\n",
    "                        os.listdir(dir_name) )\n",
    "# Sort list of files based on last modification time in ascending order\n",
    "list_of_files = sorted( list_of_files,\n",
    "                        key = lambda x: os.path.getmtime(os.path.join(dir_name, x))\n",
    "                        )\n",
    "\n",
    "print(list_of_files[3:])\n"
   ]
  },
  {
   "cell_type": "code",
   "execution_count": 227,
   "metadata": {},
   "outputs": [],
   "source": [
    "def cross(dfs):\n",
    "    dfnew = dfs[0]\n",
    "    for i in range(1,len(dfs)):\n",
    "        dfnew = dfnew.merge(dfs[i], how='cross')\n",
    "    return dfnew\n",
    "\n",
    "df1 = pd.DataFrame({'col1':[1],'col2':[5],'col3':[10]})\n",
    "args = Namespace(a=1, b='c')"
   ]
  },
  {
   "cell_type": "code",
   "execution_count": 244,
   "metadata": {},
   "outputs": [
    {
     "name": "stdout",
     "output_type": "stream",
     "text": [
      "lenX 2\n",
      "a 1\n",
      "c 4\n"
     ]
    }
   ],
   "source": [
    "def create_parse(argskeys):\n",
    "    parser = argparse.ArgumentParser(description='test')\n",
    "    for ak in argskeys:\n",
    "        parser.add_argument(ak)\n",
    "    return parser\n",
    "\n",
    "def update_args(d):\n",
    "    argskeys = [k for k in list(d.keys())]\n",
    "    parser = create_parse(argskeys)\n",
    "    args = parser.parse_args()\n",
    "    print(args)\n",
    "\n",
    "my_dict = {'lenX': '2', 'a': '1', 'c': '4'}\n",
    "for k,v in my_dict.items():\n",
    "    print(k,v)"
   ]
  },
  {
   "cell_type": "code",
   "execution_count": 245,
   "metadata": {},
   "outputs": [
    {
     "name": "stdout",
     "output_type": "stream",
     "text": [
      "Original DataFrame:\n",
      "    A  B  C\n",
      "0  1  4  7\n",
      "1  2  5  8\n",
      "2  3  6  9\n",
      "\n",
      "After Applying Function: \n",
      "   A  B  C  add\n",
      "0  1  4  7   12\n",
      "1  2  5  8   15\n",
      "2  3  6  9   18\n"
     ]
    }
   ],
   "source": [
    "# Import pandas package\n",
    "import pandas as pd\n",
    " \n",
    "# Function to add\n",
    "def add(a, b, c):\n",
    "    return a + b + c\n",
    " \n",
    "def main():\n",
    "     \n",
    "    # create a dictionary with\n",
    "    # three fields each\n",
    "    data = {\n",
    "            'A':[1, 2, 3],\n",
    "            'B':[4, 5, 6],\n",
    "            'C':[7, 8, 9] }\n",
    "     \n",
    "    # Convert the dictionary into DataFrame\n",
    "    df = pd.DataFrame(data)\n",
    "    print(\"Original DataFrame:\\n\", df)\n",
    "     \n",
    "    df['add'] = df.apply(lambda row : add(row['A'],\n",
    "                     row['B'], row['C']), axis = 1)\n",
    "  \n",
    "    print('\\nAfter Applying Function: ')\n",
    "    # printing the new dataframe\n",
    "    print(df)\n",
    "\n",
    "main()"
   ]
  },
  {
   "cell_type": "code",
   "execution_count": null,
   "metadata": {},
   "outputs": [],
   "source": []
  }
 ],
 "metadata": {
  "kernelspec": {
   "display_name": "Python 3",
   "language": "python",
   "name": "python3"
  },
  "language_info": {
   "codemirror_mode": {
    "name": "ipython",
    "version": 3
   },
   "file_extension": ".py",
   "mimetype": "text/x-python",
   "name": "python",
   "nbconvert_exporter": "python",
   "pygments_lexer": "ipython3",
   "version": "3.7.0"
  }
 },
 "nbformat": 4,
 "nbformat_minor": 2
}
