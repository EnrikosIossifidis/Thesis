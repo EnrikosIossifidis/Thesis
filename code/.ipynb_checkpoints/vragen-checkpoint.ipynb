{
 "cells": [
  {
   "cell_type": "markdown",
   "metadata": {},
   "source": [
    "-Neem random input variables $\\bar{X}=X_1,..,X_N$ en output variable $Y$; <br>\n",
    "-De Information Bottleneck compresst de input naar $\\bar{T}=T_1,..,T_M$, met $M<N$, door alleen relevante features mbt $Y$ te behouden. Dit gebeurt door onderstaande functie te minimaliseren: \n",
    "$$ min_{p(t|x)|I(\\bar{T};Y)\\geq D  } I(\\bar{X};\\bar{T}) - \\beta I(\\bar{T};Y) $$<br>\n",
    "-oftewel: minimale compressie van $\\bar{X}$, die op z'n minst $D$ mutual information met $Y$ heeft. Met de $\\beta$-parameter kan aangegeven worden hoe belangrijk $I(\\bar{T};Y)$ is;<br>\n",
    "\n",
    "-Voor 'synergystic compression' is het doel ongeveer hetzelfde, alleen worden de input variabelen in $\\bar{X}$ zelf niet  in clusters gezet, maar worden er nieuwe random variables $T_i$ gemaakt met een functie $f$ die iedere $(x_1,..,x_N) \\in \\bar{X}$ naar een $(t_1,..,t_M)\\in \\bar{T}$ stuurt en de volgende functie minimaliseert:\n",
    "\n",
    "$$ min_{f  } I(\\bar{X};\\bar{T}) + \\sum^M_i I(T_i;Y) - \\beta I(\\bar{T};Y) $$<br>\n"
   ]
  },
  {
   "cell_type": "markdown",
   "metadata": {},
   "source": [
    "Vervolgens wordt onderzocht:<br>\n",
    "    -wat de verschillende synergy metrics meten aan synergy tussen $\\bar{T}$ en $Y$<br>\n",
    "    (-hoe robust de compressie is door de input te nudgen)"
   ]
  },
  {
   "cell_type": "code",
   "execution_count": 10,
   "metadata": {},
   "outputs": [
    {
     "ename": "SyntaxError",
     "evalue": "invalid syntax (nudge.py, line 92)",
     "output_type": "error",
     "traceback": [
      "Traceback \u001b[1;36m(most recent call last)\u001b[0m:\n",
      "  File \u001b[0;32m\"C:\\Users\\enrik\\Anaconda3\\lib\\site-packages\\IPython\\core\\interactiveshell.py\"\u001b[0m, line \u001b[0;32m2910\u001b[0m, in \u001b[0;35mrun_code\u001b[0m\n    exec(code_obj, self.user_global_ns, self.user_ns)\n",
      "\u001b[1;36m  File \u001b[1;32m\"<ipython-input-10-986035d2403e>\"\u001b[1;36m, line \u001b[1;32m8\u001b[1;36m, in \u001b[1;35m<module>\u001b[1;36m\u001b[0m\n\u001b[1;33m    from nudge import strnow\u001b[0m\n",
      "\u001b[1;36m  File \u001b[1;32m\"C:\\Users\\enrik\\Desktop\\Mabomba\\Studie\\MasterCS\\Thesis\\code\\nudge.py\"\u001b[1;36m, line \u001b[1;32m92\u001b[0m\n\u001b[1;33m    print 'note: MI/H=%s, will retry...' % ((pdf.mutual_information([0], [1]) / pdf.entropy([0]) - frac_mi) / frac_mi)\u001b[0m\n\u001b[1;37m                                       ^\u001b[0m\n\u001b[1;31mSyntaxError\u001b[0m\u001b[1;31m:\u001b[0m invalid syntax\n"
     ]
    }
   ],
   "source": [
    "from itertools import combinations\n",
    "import numpy as np\n",
    "import tunepy2 as tp\n",
    "import six\n",
    "import sys\n",
    "sys.path.append('Desktop\\Mabomba\\Studie\\MasterCS\\Thesis\\code')\n",
    "sys.modules['sklearn.externals.six'] = six\n",
    "from nudge import strnow\n",
    "import mlrose"
   ]
  },
  {
   "cell_type": "code",
   "execution_count": 16,
   "metadata": {},
   "outputs": [
    {
     "ename": "NameError",
     "evalue": "name 'jpdf' is not defined",
     "output_type": "error",
     "traceback": [
      "\u001b[1;31m---------------------------------------------------------------------------\u001b[0m",
      "\u001b[1;31mNameError\u001b[0m                                 Traceback (most recent call last)",
      "\u001b[1;32m<ipython-input-16-783dff55b152>\u001b[0m in \u001b[0;36m<module>\u001b[1;34m()\u001b[0m\n\u001b[1;32m----> 1\u001b[1;33m \u001b[0mjpdf\u001b[0m\u001b[1;33m.\u001b[0m\u001b[0mmaximum_depth\u001b[0m\u001b[1;33m(\u001b[0m\u001b[1;33m[\u001b[0m\u001b[1;36m1\u001b[0m\u001b[1;33m,\u001b[0m\u001b[1;36m2\u001b[0m\u001b[1;33m,\u001b[0m\u001b[1;33m[\u001b[0m\u001b[1;36m2\u001b[0m\u001b[1;33m,\u001b[0m\u001b[1;36m4\u001b[0m\u001b[1;33m,\u001b[0m\u001b[1;33m[\u001b[0m\u001b[1;33m[\u001b[0m\u001b[1;36m4\u001b[0m\u001b[1;33m]\u001b[0m\u001b[1;33m]\u001b[0m\u001b[1;33m]\u001b[0m\u001b[1;33m]\u001b[0m\u001b[1;33m)\u001b[0m\u001b[1;33m\u001b[0m\u001b[0m\n\u001b[0m",
      "\u001b[1;31mNameError\u001b[0m: name 'jpdf' is not defined"
     ]
    }
   ],
   "source": [
    "jpdf.maximum_depth([1,2,[2,4,[[4]]]])"
   ]
  },
  {
   "cell_type": "code",
   "execution_count": 5,
   "metadata": {},
   "outputs": [
    {
     "data": {
      "text/plain": [
       "1048576"
      ]
     },
     "execution_count": 5,
     "metadata": {},
     "output_type": "execute_result"
    }
   ],
   "source": [
    "n_in = 5\n",
    "n_t = 2\n",
    "len(list(combinations(np.arange(2**3),2**n_t)))\n",
    "(2**n_in)**(2**n_t)"
   ]
  },
  {
   "cell_type": "code",
   "execution_count": 4,
   "metadata": {},
   "outputs": [
    {
     "data": {
      "text/plain": [
       "150"
      ]
     },
     "execution_count": 4,
     "metadata": {},
     "output_type": "execute_result"
    }
   ],
   "source": [
    "def cust_fn(state, c): \n",
    "    return c*np.sum(state)\n",
    "\n",
    "kwargs = {'c': 10}\n",
    "fitness = mlrose.CustomFitness(cust_fn, **kwargs)\n",
    "state = np.array([1, 2, 3, 4, 5])\n",
    "fitness.evaluate(state)"
   ]
  },
  {
   "cell_type": "code",
   "execution_count": 7,
   "metadata": {},
   "outputs": [
    {
     "ename": "TypeError",
     "evalue": "new_random_restart_hill_climber() missing 5 required positional arguments: 'dimensions', 'restarts', 'convergence_iterations', 'epsilon', and 'fitness_func'",
     "output_type": "error",
     "traceback": [
      "\u001b[1;31m---------------------------------------------------------------------------\u001b[0m",
      "\u001b[1;31mTypeError\u001b[0m                                 Traceback (most recent call last)",
      "\u001b[1;32m<ipython-input-7-dcc807803f5e>\u001b[0m in \u001b[0;36m<module>\u001b[1;34m()\u001b[0m\n\u001b[1;32m----> 1\u001b[1;33m \u001b[0mtp\u001b[0m\u001b[1;33m.\u001b[0m\u001b[0mnew_random_restart_hill_climber\u001b[0m\u001b[1;33m(\u001b[0m\u001b[1;33m)\u001b[0m\u001b[1;33m\u001b[0m\u001b[0m\n\u001b[0m",
      "\u001b[1;31mTypeError\u001b[0m: new_random_restart_hill_climber() missing 5 required positional arguments: 'dimensions', 'restarts', 'convergence_iterations', 'epsilon', and 'fitness_func'"
     ]
    }
   ],
   "source": [
    "tp.new_random_restart_hill_climber((8,4),1,syn)"
   ]
  },
  {
   "cell_type": "code",
   "execution_count": null,
   "metadata": {},
   "outputs": [],
   "source": []
  }
 ],
 "metadata": {
  "kernelspec": {
   "display_name": "Python 3",
   "language": "python",
   "name": "python3"
  },
  "language_info": {
   "codemirror_mode": {
    "name": "ipython",
    "version": 3
   },
   "file_extension": ".py",
   "mimetype": "text/x-python",
   "name": "python",
   "nbconvert_exporter": "python",
   "pygments_lexer": "ipython3",
   "version": "3.7.0"
  }
 },
 "nbformat": 4,
 "nbformat_minor": 2
}
