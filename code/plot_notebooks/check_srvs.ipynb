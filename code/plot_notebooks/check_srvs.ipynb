{
 "cells": [
  {
   "cell_type": "code",
   "execution_count": 15,
   "id": "8fab9007",
   "metadata": {},
   "outputs": [],
   "source": [
    "import numpy as np\n",
    "import dit\n",
    "from dit import Distribution"
   ]
  },
  {
   "cell_type": "code",
   "execution_count": 14,
   "id": "632d2338",
   "metadata": {},
   "outputs": [],
   "source": [
    "pSgX1 = np.array([[0.64612956 ,0.,         0.20719373, 1.        ],\n",
    " [0.35387044, 1.       ,  0.79280627, 0.        ]])\n",
    "pXS1 = np.array([[[0.19043583, 0.10429737],\n",
    "  [0.        , 0.18772092]],\n",
    "\n",
    " [[0.08186767, 0.31325851],\n",
    "  [0.1224197 , 0.        ]]])\n",
    "\n",
    "pSgX2 = np.array([[1.,         0.,         0.31414076, 0.72531611],\n",
    " [0.        , 1. ,        0.68585924, 0.27468389]])\n",
    "pXS2 = np.array([[[0.1527938,  0.        ],\n",
    "  [0. ,        0.0916707 ]],\n",
    "\n",
    " [[0.05789767, 0.12640719],\n",
    "  [0.41432279, 0.15690785]]])"
   ]
  },
  {
   "cell_type": "code",
   "execution_count": 17,
   "id": "acc781fd",
   "metadata": {},
   "outputs": [],
   "source": [
    "d1 = Distribution.from_ndarray(pXS1)\n",
    "d2 = Distribution.from_ndarray(pXS2)"
   ]
  },
  {
   "cell_type": "code",
   "execution_count": 24,
   "id": "7b842e51",
   "metadata": {},
   "outputs": [
    {
     "data": {
      "text/plain": [
       "(0.019680546630416407,\n",
       " array([[0.64612956, 0.35387044],\n",
       "        [0.        , 1.        ],\n",
       "        [0.20719373, 0.79280627],\n",
       "        [1.        , 0.        ]]))"
      ]
     },
     "execution_count": 24,
     "metadata": {},
     "output_type": "execute_result"
    }
   ],
   "source": [
    "dit.shannon.mutual_information(d1,[1],[0]),pSgX1.T"
   ]
  },
  {
   "cell_type": "code",
   "execution_count": 26,
   "id": "04c6fefe",
   "metadata": {},
   "outputs": [
    {
     "data": {
      "text/html": [
       "<div><div style=\"float: left\"><table border=\"1\"><tr><th>Class:</th><td>Distribution</td></tr><tr><th>Alphabet:</th><td>(0, 1) for all rvs</td></tr><tr><th>Base:</th><td>linear</td></tr><tr><th>Outcome Class:</th><td>tuple</td></tr><tr><th>Outcome Lenght:</th><td>2</td></tr></table></div><div style=\"float: left\"><table><tr><th>x[0]</th><th>x[1]</th><th>p(x)</th></tr><tr><td>0</td><td>0</td><td>0.29473320000000003</td></tr><tr><td>0</td><td>1</td><td>0.18772092</td></tr><tr><td>1</td><td>0</td><td>0.39512618</td></tr><tr><td>1</td><td>1</td><td>0.1224197</td></tr></table></div></div>"
      ],
      "text/plain": [
       "<dit.npdist.Distribution object at 0x00000293CAC852E8>"
      ]
     },
     "execution_count": 26,
     "metadata": {},
     "output_type": "execute_result"
    }
   ],
   "source": [
    "d1.marginal([0,1])"
   ]
  },
  {
   "cell_type": "code",
   "execution_count": 28,
   "id": "e37746fc",
   "metadata": {},
   "outputs": [
    {
     "data": {
      "text/plain": [
       "(0.19043583283339202, 0.10429736716660801)"
      ]
     },
     "execution_count": 28,
     "metadata": {},
     "output_type": "execute_result"
    }
   ],
   "source": [
    "0.64612956*0.29473320000000003,(1-0.64612956)*0.29473320000000003"
   ]
  },
  {
   "cell_type": "code",
   "execution_count": 29,
   "id": "6a3efd25",
   "metadata": {},
   "outputs": [
    {
     "data": {
      "text/plain": [
       "(0.08186766705485139, 0.3132585129451486)"
      ]
     },
     "execution_count": 29,
     "metadata": {},
     "output_type": "execute_result"
    }
   ],
   "source": [
    "0.20719373*0.39512618,(1-0.20719373)*0.39512618"
   ]
  },
  {
   "cell_type": "code",
   "execution_count": null,
   "id": "b8d72b78",
   "metadata": {},
   "outputs": [],
   "source": []
  }
 ],
 "metadata": {
  "kernelspec": {
   "display_name": "Python 3",
   "language": "python",
   "name": "python3"
  },
  "language_info": {
   "codemirror_mode": {
    "name": "ipython",
    "version": 3
   },
   "file_extension": ".py",
   "mimetype": "text/x-python",
   "name": "python",
   "nbconvert_exporter": "python",
   "pygments_lexer": "ipython3",
   "version": "3.7.0"
  }
 },
 "nbformat": 4,
 "nbformat_minor": 5
}
