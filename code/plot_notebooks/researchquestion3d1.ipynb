{
 "cells": [
  {
   "cell_type": "code",
   "execution_count": null,
   "source": [
    "import os\r\n",
    "import time\r\n",
    "import glob\r\n",
    "import dit\r\n",
    "import time\r\n",
    "import numpy as np\r\n",
    "import matplotlib.pyplot as plt\r\n",
    "import pandas as pd\r\n",
    "from scipy.optimize import minimize\r\n",
    "os.chdir(\"../\")\r\n",
    "from helpers.group_helpers import loadsyms, classifylowerorders, classifyoversized\r\n",
    "from helpers.compare_helpers import addbestsym\r\n",
    "from jointpdfpython3.measures import synergistic_entropy_upper_bound, append_random_srv\r\n",
    "from jointpdfpython3.params_matrix import params2matrix_incremental,matrix2params_incremental\r\n",
    "from jointpdfpython3.JointProbabilityMatrix import JointProbabilityMatrix\r\n",
    "from syndisc.syndisc import self_disclosure_channel\r\n",
    "os.chdir(\"./plot_notebooks\")\r\n",
    "import seaborn as sns;sns.set()"
   ],
   "outputs": [],
   "metadata": {}
  },
  {
   "cell_type": "markdown",
   "source": [
    "## only load non-oversized constructed SRVs S, since |S|>|Xi| is not supported in jointpdf"
   ],
   "metadata": {}
  },
  {
   "cell_type": "code",
   "execution_count": null,
   "source": [
    "states = 3\r\n",
    "lenX = 2\r\n",
    "subjects=np.arange(lenX)\r\n",
    "symss = []\r\n",
    "data = {'totmi':[],'indivmi':[],'symsort':[],'states':[]}\r\n",
    "\r\n",
    "concsyms, syms = loadsyms(states)\r\n",
    "syms = classifyoversized(syms,states)\r\n",
    "if 'lower order' in syms.keys():\r\n",
    "    syms = classifylowerorders(states,syms)\r\n",
    "\r\n",
    "# get indexes of all non-oversized SRVs\r\n",
    "listsyms = []\r\n",
    "symids = {}\r\n",
    "previd = 0\r\n",
    "newsyms = {}\r\n",
    "for k in syms.keys():\r\n",
    "    if 'oversized' not in k:\r\n",
    "        newsyms[k] = syms[k]\r\n",
    "        for s in syms[k]:\r\n",
    "            listsyms.append(s)\r\n",
    "            symids[k] = np.arange(previd,previd+len(syms[k]))\r\n",
    "        previd = previd+len(syms[k])\r\n",
    "syms = newsyms"
   ],
   "outputs": [],
   "metadata": {}
  },
  {
   "cell_type": "markdown",
   "source": [
    "## Start with different types of initial guesses given X"
   ],
   "metadata": {}
  },
  {
   "cell_type": "code",
   "execution_count": null,
   "source": [
    "def costfunc(srvparams,jXS,lenJXS,parX,subjects,upper):\r\n",
    "    params2matrix_incremental(jXS,parX+list(srvparams))\r\n",
    "    totmi = jXS.mutual_information(subjects,[lenJXS-1])\r\n",
    "    indivmis = sum([jXS.mutual_information([i],[lenJXS-1]) for i in subjects])\r\n",
    "    cost=abs((upper-(totmi-indivmis))/upper)\r\n",
    "    if totmi != 0:\r\n",
    "        return cost+((indivmis/totmi))\r\n",
    "    else:\r\n",
    "        return cost+(indivmis)\r\n",
    "\r\n",
    "minimize_options = {'ftol': 1e-6}\r\n",
    "def symsyninfo(states,lenX,parX,upper,jX,syms,initialtype='PSRV',costf=costfunc,verbose=None):\r\n",
    "    subjects = list(range(lenX))\r\n",
    "    jXS = append_random_srv(jX,parX,1)\r\n",
    "    lenJXS = len(jXS)\r\n",
    "    bestsymid=-1\r\n",
    "\r\n",
    "    # find constructed srv with lowest cost\r\n",
    "    if initialtype!='random':\r\n",
    "        pXSym,bestsymid = addbestsym(lenX,jX,upper,syms)\r\n",
    "        print(\"BESTSYMID type\",initialtype,\" = \",bestsymid)\r\n",
    "        jXS.joint_probabilities.joint_probabilities = pXSym\r\n",
    "\r\n",
    "    # optimize initial guess\r\n",
    "    freeparams = (states**(lenJXS))-(states**(len(jX)))\r\n",
    "    symparams = matrix2params_incremental(jXS)[-freeparams:]\r\n",
    "    optres_ix = minimize(costf,\r\n",
    "                            symparams,\r\n",
    "                            bounds=[(0.0, 1.0)]*freeparams,\r\n",
    "                            # callback=(lambda xv: param_vectors_trace.append(list(xv))) if verbose else None,\r\n",
    "                            args=(jXS,lenJXS,parX,subjects,upper),options=minimize_options)\r\n",
    "    params2matrix_incremental(jXS,parX+list(optres_ix.x))\r\n",
    "    return bestsymid,jXS"
   ],
   "outputs": [],
   "metadata": {}
  },
  {
   "cell_type": "markdown",
   "source": [
    "## Optimize different initial guesses (random, psrv, best of all constructed) for random X"
   ],
   "metadata": {}
  },
  {
   "cell_type": "code",
   "execution_count": null,
   "source": [
    "data = {'systemID':[],'parX':[],'upper':[],'totmi':[],'indivmi':[],'runtime':[],'exp_sort':[]}\r\n",
    "types = ['random','PSRV','bestofall','syndisc']\r\n",
    "# types = ['PSRV','random'] # only select some types to compare\r\n",
    "samples = 5\r\n",
    "cursyms = []\r\n",
    "for i in range(samples):\r\n",
    "    print(i,time.strftime(\"%H:%M:%S\", time.localtime()))\r\n",
    "    jX = JointProbabilityMatrix(lenX,states)\r\n",
    "    upper = synergistic_entropy_upper_bound(jX)\r\n",
    "    pX = jX.joint_probabilities.joint_probabilities\r\n",
    "    parX = matrix2params_incremental(jX)\r\n",
    "    for t in types:\r\n",
    "        if t !='syndisc':\r\n",
    "            if t == 'PSRV':\r\n",
    "                cursyms = syms['PSRVs']\r\n",
    "            elif t == 'bestofall':\r\n",
    "                cursyms = listsyms\r\n",
    "            else:\r\n",
    "                cursyms = []\r\n",
    "            before = time.time()\r\n",
    "            best, jXS = symsyninfo(states,lenX,parX,upper,jX,\\\r\n",
    "                   cursyms,initialtype=t,costf=costfunc)\r\n",
    "            data['runtime'].append(time.time()-before)\r\n",
    "            data['indivmi'].append(sum([jXS.mutual_information([s],[lenX]) for s in subjects]))\r\n",
    "            data['totmi'].append(jXS.mutual_information(subjects,[lenX]))\r\n",
    "            data['exp_sort'].append(t)\r\n",
    "            data['systemID'].append(i)\r\n",
    "            data['upper'].append(upper)\r\n",
    "            data['parX'].append(parX)\r\n",
    "        else:\r\n",
    "            ditjX = dit.Distribution.from_ndarray(pX)\r\n",
    "            before = time.time()\r\n",
    "            syn, probs = self_disclosure_channel(ditjX)\r\n",
    "            data['runtime'].append(time.time()-before)\r\n",
    "            data['indivmi'].append(0)\r\n",
    "            data['totmi'].append(syn)\r\n",
    "            data['exp_sort'].append(t)\r\n",
    "            data['systemID'].append(i)\r\n",
    "            data['upper'].append(upper)\r\n",
    "            data['parX'].append(parX)\r\n",
    "\r\n",
    "initialdata = pd.DataFrame(data=data)\r\n",
    "initialdata.to_pickle(\"../../results/test/finalinitialcomparison\"+str(states)+\".pkl\") # note data is saved in 'test' folder"
   ],
   "outputs": [],
   "metadata": {}
  },
  {
   "cell_type": "markdown",
   "source": [
    "## load \\& plot initial syms"
   ],
   "metadata": {}
  },
  {
   "cell_type": "code",
   "execution_count": null,
   "source": [
    "# # load all initial guess data and concatenate from 'rq31' folder\r\n",
    "folder = '../../results/rq31/'\r\n",
    "os.chdir(folder)\r\n",
    "files = glob.glob(folder+\"*.pkl\")\r\n",
    "ds = []\r\n",
    "if len(files) != 0:\r\n",
    "    for f in files:\r\n",
    "        if 'initial' in f:\r\n",
    "            print(f,f[-5])\r\n",
    "            cur = pd.read_pickle(f)\r\n",
    "            cur['states'] = int(f[-5])\r\n",
    "            cur=cur[(cur['systemID']<150)]\r\n",
    "            ds.append(cur)\r\n",
    "\r\n",
    "d = pd.concat(ds)\r\n",
    "os.chdir('../../code/plot_notebooks')\r\n",
    "# d=d[(d['exp_sort']!='syndisc')]\r\n",
    "d['norm indivmi']=d['indivmi']/d['totmi']\r\n",
    "xl = 'I(X;S)'\r\n",
    "d[xl]=d['totmi']\r\n",
    "d['runtime (seconds)'] = d['runtime']\r\n",
    "d.keys()"
   ],
   "outputs": [],
   "metadata": {}
  },
  {
   "cell_type": "code",
   "execution_count": null,
   "source": [
    "sns.set_context(\"paper\", font_scale = 1.6)\r\n",
    "\r\n",
    "g = sns.jointplot(data=d,x='runtime (seconds)',y='norm indivmi',hue='exp_sort',\r\n",
    "                  s=50,palette='tab10')\r\n",
    "g.fig.suptitle(\"states = [2,3,4]\",y=1.0,fontsize=13)\r\n",
    "# g.fig.suptitle(\"states = \"+str(states),y=1.0,fontsize=13)\r\n",
    "legend_properties = {'size':14}\r\n",
    "legendMain=g.ax_joint.legend(prop=legend_properties,loc='upper right')\r\n",
    "fig = g.fig.get_figure()\r\n",
    "\r\n",
    "g = sns.jointplot(data=d,x='I(X;S)',y='norm indivmi',hue='exp_sort',\r\n",
    "                  s=50,palette='tab10')\r\n",
    "g.fig.suptitle(\"states = \"+str(states),y=1.0,fontsize=13)\r\n",
    "legend_properties = {'size':14}\r\n",
    "legendMain=g.ax_joint.legend(prop=legend_properties,loc='upper right')\r\n",
    "fig = g.fig.get_figure()"
   ],
   "outputs": [],
   "metadata": {}
  },
  {
   "cell_type": "code",
   "execution_count": null,
   "source": [],
   "outputs": [],
   "metadata": {}
  }
 ],
 "metadata": {
  "kernelspec": {
   "name": "python3",
   "display_name": "Python 3.7.0 64-bit (conda)"
  },
  "language_info": {
   "codemirror_mode": {
    "name": "ipython",
    "version": 3
   },
   "file_extension": ".py",
   "mimetype": "text/x-python",
   "name": "python",
   "nbconvert_exporter": "python",
   "pygments_lexer": "ipython3",
   "version": "3.7.0"
  },
  "interpreter": {
   "hash": "2cbab85b0a12cacaa8de87af201aadcb03d557d3781c80a303422245c6394e20"
  }
 },
 "nbformat": 4,
 "nbformat_minor": 5
}