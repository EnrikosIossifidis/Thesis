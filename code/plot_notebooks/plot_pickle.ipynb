{
 "cells": [
  {
   "cell_type": "code",
   "execution_count": 1,
   "id": "b5322738",
   "metadata": {},
   "outputs": [
    {
     "data": {
      "text/plain": [
       "'C:\\\\Users\\\\enrik\\\\Desktop\\\\Mabomba\\\\Studie\\\\MasterCS\\\\Thesis\\\\results\\\\preliminaries\\\\landscape'"
      ]
     },
     "execution_count": 1,
     "metadata": {},
     "output_type": "execute_result"
    }
   ],
   "source": [
    "import os\n",
    "import random\n",
    "import time\n",
    "import glob\n",
    "import json\n",
    "import numpy as np\n",
    "import matplotlib.pyplot as plt\n",
    "import seaborn as sns\n",
    "import pandas as pd\n",
    "\n",
    "folder = 'preliminaries/landscape'\n",
    "\n",
    "#Adjust path to folder of pickle\n",
    "path = os.getcwd()\n",
    "os.chdir('../../')\n",
    "os.chdir('./results/'+folder)\n",
    "os.getcwd()"
   ]
  },
  {
   "cell_type": "code",
   "execution_count": 2,
   "id": "03967120",
   "metadata": {},
   "outputs": [
    {
     "data": {
      "text/plain": [
       "Index(['exp_sort', 'states', 'systemID', 'H(S)', 'syn_upper', 'syn_info',\n",
       "       'I(Xi;S)', 'pXS', 'I(Y;S)', 'runID', 'I(X;S)', 'tot_runtime', 'parXY',\n",
       "       'lenS', 'save', 'tot_repeats', 'prev', 'exp', 'mm', 'dist_type',\n",
       "       'num_srvs', 'summed_modulo', 'systems', 'tol', 'rowfolder', 'lenY',\n",
       "       'lenX', 'folder'],\n",
       "      dtype='object')"
      ]
     },
     "execution_count": 2,
     "metadata": {},
     "output_type": "execute_result"
    }
   ],
   "source": [
    "cur = glob.glob(\"*.pkl\")\n",
    "df = pd.read_pickle(cur[-1])\n",
    "df = df.replace(np.nan, 0)\n",
    "df['I(Xi;S)'] = df['I(Xi;S)'].replace(np.nan, 0)\n",
    "df.keys()"
   ]
  },
  {
   "cell_type": "code",
   "execution_count": 3,
   "id": "53417816",
   "metadata": {},
   "outputs": [
    {
     "data": {
      "text/html": [
       "<div>\n",
       "<style scoped>\n",
       "    .dataframe tbody tr th:only-of-type {\n",
       "        vertical-align: middle;\n",
       "    }\n",
       "\n",
       "    .dataframe tbody tr th {\n",
       "        vertical-align: top;\n",
       "    }\n",
       "\n",
       "    .dataframe thead th {\n",
       "        text-align: right;\n",
       "    }\n",
       "</style>\n",
       "<table border=\"1\" class=\"dataframe\">\n",
       "  <thead>\n",
       "    <tr style=\"text-align: right;\">\n",
       "      <th></th>\n",
       "      <th>exp_sort</th>\n",
       "      <th>states</th>\n",
       "      <th>systemID</th>\n",
       "      <th>H(S)</th>\n",
       "      <th>syn_upper</th>\n",
       "      <th>syn_info</th>\n",
       "      <th>I(Xi;S)</th>\n",
       "      <th>pXS</th>\n",
       "      <th>I(Y;S)</th>\n",
       "      <th>runID</th>\n",
       "      <th>...</th>\n",
       "      <th>mm</th>\n",
       "      <th>dist_type</th>\n",
       "      <th>num_srvs</th>\n",
       "      <th>summed_modulo</th>\n",
       "      <th>systems</th>\n",
       "      <th>tol</th>\n",
       "      <th>rowfolder</th>\n",
       "      <th>lenY</th>\n",
       "      <th>lenX</th>\n",
       "      <th>folder</th>\n",
       "    </tr>\n",
       "  </thead>\n",
       "  <tbody>\n",
       "    <tr>\n",
       "      <th>0</th>\n",
       "      <td>python2</td>\n",
       "      <td>2</td>\n",
       "      <td>0</td>\n",
       "      <td>1.00000</td>\n",
       "      <td>1.00000</td>\n",
       "      <td>1.00000</td>\n",
       "      <td>[0.0, 0.0]</td>\n",
       "      <td>[0.25, 0.0, 0.0, 0.25, 0.0, 0.25, 0.25, 0.0]</td>\n",
       "      <td>[1.0]</td>\n",
       "      <td>0</td>\n",
       "      <td>...</td>\n",
       "      <td>0</td>\n",
       "      <td>iid</td>\n",
       "      <td>1</td>\n",
       "      <td>False</td>\n",
       "      <td>1</td>\n",
       "      <td>0.05</td>\n",
       "      <td>/row_data/</td>\n",
       "      <td>1</td>\n",
       "      <td>2</td>\n",
       "      <td>../results/preliminaries/landscape/</td>\n",
       "    </tr>\n",
       "    <tr>\n",
       "      <th>0</th>\n",
       "      <td>python2</td>\n",
       "      <td>2</td>\n",
       "      <td>1</td>\n",
       "      <td>0.99103</td>\n",
       "      <td>0.98047</td>\n",
       "      <td>0.99103</td>\n",
       "      <td>[0.010559593049474625, 0.0056376069644870075]</td>\n",
       "      <td>[0.2869881820945948, 0.0, 0.0, 0.1756226668459...</td>\n",
       "      <td>[0.9910295043564568]</td>\n",
       "      <td>0</td>\n",
       "      <td>...</td>\n",
       "      <td>0</td>\n",
       "      <td>dirichlet</td>\n",
       "      <td>1</td>\n",
       "      <td>False</td>\n",
       "      <td>1</td>\n",
       "      <td>0.05</td>\n",
       "      <td>/row_data/</td>\n",
       "      <td>1</td>\n",
       "      <td>2</td>\n",
       "      <td>../results/preliminaries/landscape/</td>\n",
       "    </tr>\n",
       "  </tbody>\n",
       "</table>\n",
       "<p>2 rows × 28 columns</p>\n",
       "</div>"
      ],
      "text/plain": [
       "  exp_sort  states  systemID     H(S)  syn_upper  syn_info  \\\n",
       "0  python2       2         0  1.00000    1.00000   1.00000   \n",
       "0  python2       2         1  0.99103    0.98047   0.99103   \n",
       "\n",
       "                                         I(Xi;S)  \\\n",
       "0                                     [0.0, 0.0]   \n",
       "0  [0.010559593049474625, 0.0056376069644870075]   \n",
       "\n",
       "                                                 pXS                I(Y;S)  \\\n",
       "0       [0.25, 0.0, 0.0, 0.25, 0.0, 0.25, 0.25, 0.0]                 [1.0]   \n",
       "0  [0.2869881820945948, 0.0, 0.0, 0.1756226668459...  [0.9910295043564568]   \n",
       "\n",
       "   runID  ...  mm  dist_type num_srvs  summed_modulo  systems   tol  \\\n",
       "0      0  ...   0        iid        1          False        1  0.05   \n",
       "0      0  ...   0  dirichlet        1          False        1  0.05   \n",
       "\n",
       "    rowfolder  lenY  lenX                               folder  \n",
       "0  /row_data/     1     2  ../results/preliminaries/landscape/  \n",
       "0  /row_data/     1     2  ../results/preliminaries/landscape/  \n",
       "\n",
       "[2 rows x 28 columns]"
      ]
     },
     "execution_count": 3,
     "metadata": {},
     "output_type": "execute_result"
    }
   ],
   "source": [
    "df"
   ]
  },
  {
   "cell_type": "code",
   "execution_count": null,
   "id": "47b4ea49",
   "metadata": {},
   "outputs": [],
   "source": []
  }
 ],
 "metadata": {
  "kernelspec": {
   "display_name": "Python 3",
   "language": "python",
   "name": "python3"
  },
  "language_info": {
   "codemirror_mode": {
    "name": "ipython",
    "version": 3
   },
   "file_extension": ".py",
   "mimetype": "text/x-python",
   "name": "python",
   "nbconvert_exporter": "python",
   "pygments_lexer": "ipython3",
   "version": "3.7.0"
  }
 },
 "nbformat": 4,
 "nbformat_minor": 5
}
