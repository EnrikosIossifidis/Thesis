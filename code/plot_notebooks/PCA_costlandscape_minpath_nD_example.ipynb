{
 "cells": [
  {
   "cell_type": "code",
   "execution_count": 11,
   "id": "20067740",
   "metadata": {},
   "outputs": [],
   "source": [
    "%matplotlib inline\n",
    "import numpy as np\n",
    "from scipy.optimize import minimize, LinearConstraint\n",
    "from sklearn.decomposition import PCA\n",
    "import matplotlib.pyplot as plt\n",
    "import seaborn as sns; sns.set()"
   ]
  },
  {
   "cell_type": "markdown",
   "id": "c6d79507",
   "metadata": {},
   "source": [
    "## OPTIMIZATION OF SELLING N STOCKS TO M BUYERS"
   ]
  },
  {
   "cell_type": "code",
   "execution_count": 12,
   "id": "86acf33a",
   "metadata": {},
   "outputs": [
    {
     "data": {
      "text/plain": [
       "(array([0, 1, 2, 3, 4], dtype=int64),)"
      ]
     },
     "execution_count": 12,
     "metadata": {},
     "output_type": "execute_result"
    }
   ],
   "source": [
    "a = np.arange(10)\n",
    "np.where(a < 5)"
   ]
  },
  {
   "cell_type": "code",
   "execution_count": 13,
   "id": "a97ca800",
   "metadata": {},
   "outputs": [
    {
     "name": "stdout",
     "output_type": "stream",
     "text": [
      "[0.77132064 0.02075195 0.63364823 0.74880388 0.49850701]\n",
      "[1 2 2 3 1]\n",
      "[ 1.29647768 96.37648808  3.15632537  4.00638948  2.00598984]\n"
     ]
    }
   ],
   "source": [
    "n_buyers = 5\n",
    "n_shares = 15\n",
    "\n",
    "np.random.seed(10)\n",
    "prices = np.random.random(n_buyers)\n",
    "money_available = np.random.randint(1, 4, n_buyers)\n",
    "n_shares_per_buyer = money_available / prices\n",
    "print(prices, money_available, n_shares_per_buyer, sep=\"\\n\")"
   ]
  },
  {
   "cell_type": "code",
   "execution_count": 14,
   "id": "71bac8c9",
   "metadata": {},
   "outputs": [],
   "source": [
    "constraint = LinearConstraint(np.ones(n_buyers), lb=n_shares, ub=n_shares)\n",
    "bounds = [(0, n) for n in n_shares_per_buyer]"
   ]
  },
  {
   "cell_type": "code",
   "execution_count": 15,
   "id": "7f268330",
   "metadata": {},
   "outputs": [],
   "source": [
    "def objective_function(x, prices):\n",
    "    return -x.dot(prices)\n",
    "\n",
    "Niter = 1\n",
    "def callbackF(X):\n",
    "    global Niter\n",
    "    print(Niter,X)\n",
    "    Niter += 1"
   ]
  },
  {
   "cell_type": "code",
   "execution_count": 16,
   "id": "85d8dcca",
   "metadata": {},
   "outputs": [],
   "source": [
    "\n",
    "class Simulator:\n",
    "    def __init__(self, function):\n",
    "        self.f = function # actual objective function\n",
    "        self.num_calls = 0 # how many times f has been called\n",
    "        self.callback_count = 1 # number of times callback has been called, also measures iteration count\n",
    "        self.list_calls_inp = [] # input of all calls\n",
    "        self.list_calls_res = [] # result of all calls\n",
    "        self.decreasing_list_calls_inp = [] # input of calls that resulted in decrease\n",
    "        self.decreasing_list_calls_res = [] # result of calls that resulted in decrease\n",
    "        self.list_callback_inp = [] # only appends inputs on callback, as such they correspond to the iterations\n",
    "        self.list_callback_res = [] # only appends results on callback, as such they correspond to the iterations\n",
    "\n",
    "    def simulate(self, x, *args):\n",
    "        \"\"\"Executes the actual simulation and returns the result, while\n",
    "        updating the lists too. Pass to optimizer without arguments or\n",
    "        parentheses.\"\"\"\n",
    "        result = self.f(x, *args) # the actual evaluation of the function\n",
    "        if not self.num_calls: # first call is stored in all lists\n",
    "            self.decreasing_list_calls_inp.append(x)\n",
    "            self.decreasing_list_calls_res.append(result)\n",
    "            self.list_callback_inp.append(x)\n",
    "            self.list_callback_res.append(result)\n",
    "        elif result < self.decreasing_list_calls_res[-1]:\n",
    "            self.decreasing_list_calls_inp.append(x)\n",
    "            self.decreasing_list_calls_res.append(result)\n",
    "        self.list_calls_inp.append(x)\n",
    "        self.list_calls_res.append(result)\n",
    "        self.num_calls += 1\n",
    "        return result\n",
    "\n",
    "    def callback(self, xk, *_):\n",
    "        \"\"\"Callback function that can be used by optimizers of scipy.optimize.\n",
    "        The third argument \"*_\" makes sure that it still works when the\n",
    "        optimizer calls the callback function with more than one argument. Pass\n",
    "        to optimizer without arguments or parentheses.\"\"\"\n",
    "        s1 = \"\"\n",
    "        xk = np.atleast_1d(xk)\n",
    "        # search backwards in input list for input corresponding to xk\n",
    "        for i, x in reversed(list(enumerate(self.list_calls_inp))):\n",
    "            x = np.atleast_1d(x)\n",
    "            if np.allclose(x, xk):\n",
    "                break\n",
    "\n",
    "        for comp in xk:\n",
    "            s1 += f\"{comp:10.5e}\\t\"\n",
    "        s1 += f\"{self.list_calls_res[i]:10.5e}\"\n",
    "\n",
    "        self.list_callback_inp.append(xk)\n",
    "        self.list_callback_res.append(self.list_calls_res[i])\n",
    "\n",
    "        if not self.callback_count:\n",
    "            s0 = \"\"\n",
    "            for j, _ in enumerate(xk):\n",
    "                tmp = f\"Comp-{j+1}\"\n",
    "                s0 += f\"{tmp:10s}\\t\"\n",
    "            s0 += \"Objective\"\n",
    "            print(s0)\n",
    "            print(s1)"
   ]
  },
  {
   "cell_type": "markdown",
   "id": "aa20c3c4",
   "metadata": {},
   "source": [
    "## 2D PCA OF OPTIMIZATION PATH + COST LANDSCAPE"
   ]
  },
  {
   "cell_type": "code",
   "execution_count": 20,
   "id": "70577f79",
   "metadata": {},
   "outputs": [],
   "source": [
    "def get_ranges(pca,inv_trans_X,trans_X,steps):\n",
    "    ax_ranges = {i:None for i in range(len(pca.components_))}\n",
    "    xmin = min(trans_X[:,0])\n",
    "    xmax = max(trans_X[:,0])\n",
    "    xrange = np.linspace(xmin,xmax,steps)\n",
    "    ymin = min(trans_X[:,1])\n",
    "    ymax = max(trans_X[:,1])\n",
    "    yrange = np.linspace(ymin,ymax,steps)\n",
    "\n",
    "    xrange = np.vstack((xrange,np.zeros(steps)+ymin))\n",
    "    yrange = np.vstack((np.zeros(steps)+xmin,yrange))\n",
    "    return [xrange,yrange]\n",
    "    \n",
    "#     for i,vector in enumerate(pca.components_):\n",
    "#         # get max distance for scalar projection \n",
    "#         projs = [(X-pca.mean_) for X in inv_trans_X]\n",
    "#         projs2 = [(np.dot(p,vector)/np.dot(vector,vector))*vector for p in projs]\n",
    "#         projs3 = [np.linalg.norm(projs2[i]-p) for i,p in enumerate(projs)]\n",
    "#         if not ax_ranges[i]:\n",
    "#             ax_ranges[i] = max(projs3)\n",
    "#         else:\n",
    "#             print(\"Vector twice?\")\n",
    "        \n",
    "#     ax_data = []\n",
    "#     for i,vector in enumerate(pca.components_):  \n",
    "#         # vector projection (from mean to orthogonally beneat point in PCA line)\n",
    "#         ax_path = np.linspace(pca.mean_-(vector*ax_ranges[(i+1)%2]),pca.mean_+(vector*ax_ranges[(i+1)%2]),steps)\n",
    "#         ax_data.append(ax_path)\n",
    "#     return ax_data\n",
    "    \n",
    "# get 2D pca representation\n",
    "def pca_data(data,steps,d=2):\n",
    "    pca = PCA(n_components=d)\n",
    "    pca.fit(data)\n",
    "    trans_X = pca.transform(data)\n",
    "    inv_trans_X = pca.inverse_transform(trans_X)\n",
    "    ax_ranges = get_ranges(pca,inv_trans_X,trans_X,steps)\n",
    "    data_2D = []\n",
    "    for i in ax_ranges[0]:\n",
    "        for r in ax_ranges[1]:\n",
    "            curv = i+(r)\n",
    "            data_2D.append(curv)\n",
    "    return inv_trans_X,trans_X,data_2D\n",
    "\n",
    "def plot_pca2D(trans_X,inv_trans_X,trans_data_2D,data_2D,steps):\n",
    "    idx = [0,steps-1,steps*(steps-1)]\n",
    "    colors = ['red','yellow','black']\n",
    "\n",
    "    plt.plot(trans_X[:,0],trans_X[:,1])\n",
    "#     plt.scatter(trans_data_2D[:,0],trans_data_2D[:,1])\n",
    "#     for i,x in enumerate(colors):\n",
    "#         ix = idx[i]\n",
    "#         print(data_2D[ix])\n",
    "#         plt.scatter(trans_data_2D[ix][0],trans_data_2D[ix][1],color=x)\n",
    "#     plt.show()"
   ]
  },
  {
   "cell_type": "code",
   "execution_count": 21,
   "id": "ffa939e1",
   "metadata": {},
   "outputs": [],
   "source": [
    "sim = Simulator(objective_function)\n",
    "x00=10 * np.random.random(n_buyers)\n",
    "res = minimize(\n",
    "    sim.simulate,\n",
    "    x0=x00,\n",
    "    args=(prices,),\n",
    "    constraints=constraint,\n",
    "    bounds=bounds,\n",
    "    callback=sim.callback\n",
    ")\n",
    "\n",
    "a = sim.decreasing_list_calls_inp\n",
    "b = sim.list_calls_inp\n",
    "c = [list(x00)]+np.array(sim.list_callback_inp).tolist()\n",
    "cur = c"
   ]
  },
  {
   "cell_type": "code",
   "execution_count": 22,
   "id": "d2441f75",
   "metadata": {},
   "outputs": [
    {
     "ename": "ValueError",
     "evalue": "not enough values to unpack (expected 5, got 3)",
     "output_type": "error",
     "traceback": [
      "\u001b[1;31m---------------------------------------------------------------------------\u001b[0m",
      "\u001b[1;31mValueError\u001b[0m                                Traceback (most recent call last)",
      "\u001b[1;32m<ipython-input-22-dd048b6c0be4>\u001b[0m in \u001b[0;36m<module>\u001b[1;34m\u001b[0m\n\u001b[0;32m      1\u001b[0m \u001b[0mrange_steps\u001b[0m \u001b[1;33m=\u001b[0m \u001b[1;36m10\u001b[0m\u001b[1;33m\u001b[0m\u001b[0m\n\u001b[1;32m----> 2\u001b[1;33m \u001b[0minv_trans_X\u001b[0m\u001b[1;33m,\u001b[0m\u001b[0mtrans_X\u001b[0m\u001b[1;33m,\u001b[0m\u001b[0mgrid_nD\u001b[0m\u001b[1;33m,\u001b[0m\u001b[0mgrid_2D\u001b[0m\u001b[1;33m,\u001b[0m\u001b[0maxes_2D\u001b[0m \u001b[1;33m=\u001b[0m \u001b[0mpca_data\u001b[0m\u001b[1;33m(\u001b[0m\u001b[0mcur\u001b[0m\u001b[1;33m,\u001b[0m\u001b[0mrange_steps\u001b[0m\u001b[1;33m)\u001b[0m\u001b[1;33m\u001b[0m\u001b[0m\n\u001b[0m\u001b[0;32m      3\u001b[0m \u001b[1;33m\u001b[0m\u001b[0m\n\u001b[0;32m      4\u001b[0m \u001b[0midx\u001b[0m \u001b[1;33m=\u001b[0m \u001b[1;33m[\u001b[0m\u001b[1;36m0\u001b[0m\u001b[1;33m,\u001b[0m\u001b[0mrange_steps\u001b[0m\u001b[1;33m-\u001b[0m\u001b[1;36m1\u001b[0m\u001b[1;33m,\u001b[0m\u001b[0mrange_steps\u001b[0m\u001b[1;33m*\u001b[0m\u001b[1;33m(\u001b[0m\u001b[0mrange_steps\u001b[0m\u001b[1;33m-\u001b[0m\u001b[1;36m1\u001b[0m\u001b[1;33m)\u001b[0m\u001b[1;33m]\u001b[0m\u001b[1;33m\u001b[0m\u001b[0m\n\u001b[0;32m      5\u001b[0m \u001b[0max_x\u001b[0m \u001b[1;33m=\u001b[0m \u001b[0maxes_2D\u001b[0m\u001b[1;33m[\u001b[0m\u001b[1;36m0\u001b[0m\u001b[1;33m]\u001b[0m\u001b[1;33m[\u001b[0m\u001b[1;33m:\u001b[0m\u001b[1;33m,\u001b[0m\u001b[1;36m0\u001b[0m\u001b[1;33m]\u001b[0m\u001b[1;33m\u001b[0m\u001b[0m\n",
      "\u001b[1;31mValueError\u001b[0m: not enough values to unpack (expected 5, got 3)"
     ]
    }
   ],
   "source": [
    "range_steps = 10\n",
    "inv_trans_X,trans_X,grid_nD,grid_2D,axes_2D = pca_data(cur,range_steps)\n",
    "\n",
    "idx = [0,range_steps-1,range_steps*(range_steps-1)]\n",
    "ax_x = axes_2D[0][:,0]\n",
    "ax_y = axes_2D[1][:,1]\n",
    "X, Y = np.meshgrid(ax_x,ax_y)\n",
    "Z = []\n",
    "for i in range(len(ax_x)):\n",
    "    Z.append([])\n",
    "    for j in range(len(ax_y)):\n",
    "        indx = (range_steps*i)+j\n",
    "        Z[-1].append(objective_function(grid_nD[indx],prices))\n",
    "Z = np.array(Z)\n",
    "\n",
    "plt.plot(trans_X[:,0],trans_X[:,1])\n",
    "plt.scatter(trans_X[0][0],trans_X[0][1],color='red')\n",
    "plt.scatter(trans_X[-1][0],trans_X[-1][1],color='green')\n",
    "plt.contour(X, Y, Z, cmap='Spectral')\n",
    "plt.colorbar()\n",
    "plt.show()"
   ]
  },
  {
   "cell_type": "code",
   "execution_count": null,
   "id": "769cab3f",
   "metadata": {},
   "outputs": [],
   "source": []
  },
  {
   "cell_type": "code",
   "execution_count": null,
   "id": "21252ae4",
   "metadata": {},
   "outputs": [],
   "source": []
  }
 ],
 "metadata": {
  "kernelspec": {
   "display_name": "Python 3",
   "language": "python",
   "name": "python3"
  },
  "language_info": {
   "codemirror_mode": {
    "name": "ipython",
    "version": 3
   },
   "file_extension": ".py",
   "mimetype": "text/x-python",
   "name": "python",
   "nbconvert_exporter": "python",
   "pygments_lexer": "ipython3",
   "version": "3.7.0"
  }
 },
 "nbformat": 4,
 "nbformat_minor": 5
}
