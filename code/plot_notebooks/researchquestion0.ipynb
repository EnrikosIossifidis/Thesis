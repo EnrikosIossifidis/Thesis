{
 "cells": [
  {
   "cell_type": "code",
   "execution_count": 1,
   "source": [
    "import os\r\n",
    "import time\r\n",
    "import dit\r\n",
    "import time\r\n",
    "from datetime import datetime\r\n",
    "import numpy as np\r\n",
    "import pickle\r\n",
    "import matplotlib.pyplot as plt\r\n",
    "import pandas as pd\r\n",
    "from scipy.optimize import minimize\r\n",
    "os.chdir(\"../\")\r\n",
    "from jointpdfpython3.measures import synergistic_entropy_upper_bound\r\n",
    "from jointpdfpython3.params_matrix import params2matrix_incremental,matrix2params_incremental\r\n",
    "from jointpdfpython3.JointProbabilityMatrix import JointProbabilityMatrix\r\n",
    "from syndisc.syndisc import self_disclosure_channel\r\n",
    "os.chdir(\"./plot_notebooks\")\r\n",
    "import seaborn as sns;sns.set()"
   ],
   "outputs": [],
   "metadata": {}
  },
  {
   "cell_type": "markdown",
   "source": [
    "## Convergence of scipy minimize (jointpdf)"
   ],
   "metadata": {}
  },
  {
   "cell_type": "code",
   "execution_count": 2,
   "source": [
    "from scipy.optimize import minimize\r\n",
    "\r\n",
    "# class to save cost values during scipy.optimize.minimize\r\n",
    "# note: not used however, but can be used as callback\r\n",
    "class OpObj(object):\r\n",
    "    def __init__(self, jXS,subjects,sid):\r\n",
    "        self.jXS = jXS\r\n",
    "        self.subjects=subjects\r\n",
    "        self.sid=sid\r\n",
    "        self.f = np.full(shape=(500,), fill_value=np.NaN)\r\n",
    "        self.count = 0\r\n",
    "    def _fun(self):\r\n",
    "        totmi = self.jXS.mutual_information(self.subjects,[self.sid])\r\n",
    "        indivmis = sum([self.jXS.mutual_information([i],[self.sid]) for i in self.subjects])        \r\n",
    "        return totmi-indivmis\r\n",
    "    \r\n",
    "def cb(xk, obj=None):\r\n",
    "    obj.f[obj.count] = obj._fun()\r\n",
    "    obj.count += 1\r\n",
    "\r\n",
    "def costf(srvparams,jXS,lenJXS,parX,subjects,upper):\r\n",
    "    params2matrix_incremental(jXS,parX+list(srvparams))\r\n",
    "    totmi = jXS.mutual_information(subjects,[lenJXS-1])\r\n",
    "    indivmis = sum([jXS.mutual_information([i],[lenJXS-1]) for i in subjects])\r\n",
    "    cost=(upper-(totmi-indivmis))/upper\r\n",
    "    if totmi != 0:\r\n",
    "        return cost+((indivmis/totmi))\r\n",
    "    else:\r\n",
    "        return cost+(indivmis)"
   ],
   "outputs": [],
   "metadata": {}
  },
  {
   "cell_type": "markdown",
   "source": [
    "## WMS value for increasing repeats (jointpdf)"
   ],
   "metadata": {}
  },
  {
   "cell_type": "code",
   "execution_count": null,
   "source": [
    "x=np.linspace(1,500,500)\r\n",
    "states = 2\r\n",
    "lenX = 2\r\n",
    "subjects = np.arange(lenX)\r\n",
    "t='random'\r\n",
    "cursyms = []\r\n",
    "data = {'systemID':[],'repeats':[],'WMS(X;S)':[],'upper':[],'difference WMS':[]}\r\n",
    "samples = 25\r\n",
    "samps = [JointProbabilityMatrix(lenX+1,states) for _ in range(samples)]\r\n",
    "lenJXS = lenX+1\r\n",
    "repeats = 15\r\n",
    "for i,sys in enumerate(samps):\r\n",
    "    print(\"SYS ID\",i,datetime.fromtimestamp(time.time()))\r\n",
    "    \r\n",
    "    # compute system's information-theoretic properties\r\n",
    "    upper = synergistic_entropy_upper_bound(sys[subjects])\r\n",
    "    parXS = matrix2params_incremental(sys)\r\n",
    "    parX = parXS[:(states**lenX)-1]\r\n",
    "    freeparams = len(parXS[(states**lenX)-1:])\r\n",
    "    bestWMS = 0\r\n",
    "    print(parX)\r\n",
    "    \r\n",
    "    # optimize random initial guess repeats times using the cost function\r\n",
    "    for test in range(1,repeats+1):\r\n",
    "        parS = np.random.random(freeparams)\r\n",
    "        optres_ix = minimize(costf,\r\n",
    "                                parS,\r\n",
    "                                bounds=[(0.0, 1.0)]*freeparams,\r\n",
    "                                args=(sys,lenJXS,parX,subjects,upper),options=minimize_options)\r\n",
    "        opt = optres_ix.x\r\n",
    "        params2matrix_incremental(sys,parX+list(opt))\r\n",
    "        totmi = sys.mutual_information(subjects,[lenJXS-1])\r\n",
    "        indivmis = [sys.mutual_information([i],[lenJXS-1]) for i in subjects]\r\n",
    "        data['systemID'].append(i)\r\n",
    "        data['repeats'].append(test)\r\n",
    "        data['WMS(X;S)'].append(totmi-sum(indivmis))\r\n",
    "        data['upper'].append(upper)\r\n",
    "\r\n",
    "        # compute difference with previous best found WMS and change if new best\r\n",
    "        if test == 1:\r\n",
    "            bestWMS = data['WMS(X;S)'][-1]\r\n",
    "            data['difference WMS'].append(0)\r\n",
    "        else:\r\n",
    "            if data['WMS(X;S)'][-1]-bestWMS>0:\r\n",
    "                data['difference WMS'].append(data['WMS(X;S)'][-1]-bestWMS)\r\n",
    "                bestWMS = data['WMS(X;S)'][-1]\r\n",
    "            else:\r\n",
    "                data['difference WMS'].append(0)\r\n",
    "\r\n",
    "df = pd.DataFrame(data=data)\r\n",
    "# df.to_pickle('../../results/rq0/convjointpdfstates'+str(states))"
   ],
   "outputs": [],
   "metadata": {}
  },
  {
   "cell_type": "code",
   "execution_count": null,
   "source": [
    "# df = pd.read_pickle('../../results/rq0/convjointpdfstates'+str(states)+'.pkl')\r\n",
    "\r\n",
    "sns.set_context(\"paper\", font_scale = 1.5)\r\n",
    "pointplot=sns.pointplot(data=df,x='repeats',y='difference WMS')\r\n",
    "fig = pointplot.get_figure()\r\n",
    "\r\n",
    "plt.ylabel(\"improvement WMS\")\r\n",
    "plt.xlabel(\"repeats\")\r\n",
    "plt.title(\"States = \"+str(states))\r\n",
    "fig.savefig(\"out.png\") "
   ],
   "outputs": [],
   "metadata": {}
  },
  {
   "cell_type": "markdown",
   "source": [
    "## Compute X multiple increasing times (syndisc)"
   ],
   "metadata": {}
  },
  {
   "cell_type": "code",
   "execution_count": 9,
   "source": [
    "states = 4\r\n",
    "lenX = 2\r\n",
    "subjects = np.arange(lenX)\r\n",
    "t='random'\r\n",
    "cursyms = []\r\n",
    "data = {'systemID':[],'repeats':[],'syn_info':[],'upper':[],'difference syn_info':[],'runtime':[]}\r\n",
    "samples = 25\r\n",
    "samps = [JointProbabilityMatrix(lenX,states) for _ in range(samples)]\r\n",
    "repeats = 15\r\n",
    "bestWMS = 0\r\n",
    "for i in range(samples):\r\n",
    "    print(i,time.strftime(\"%H:%M:%S\", time.localtime()))\r\n",
    "    jX = samps[i]\r\n",
    "    upper = synergistic_entropy_upper_bound(jX)\r\n",
    "    pX = jX.joint_probabilities.joint_probabilities\r\n",
    "    for test in range(1,repeats+1):\r\n",
    "        dit_syn = dit.Distribution.from_ndarray(pX)\r\n",
    "        before = time.time()\r\n",
    "        syn, probs = self_disclosure_channel(dit_syn) # compute S^a(X->X)\r\n",
    "        data['runtime'].append(time.time()-before)\r\n",
    "        data['syn_info'].append(syn)        \r\n",
    "        data['systemID'].append(i)\r\n",
    "        data['repeats'].append(test)\r\n",
    "        data['upper'].append(upper)\r\n",
    "\r\n",
    "        # compute difference with previous best found WMS and change if new best\r\n",
    "        if test == 1:\r\n",
    "            bestWMS = data['syn_info'][-1]\r\n",
    "            data['difference syn_info'].append(0)\r\n",
    "        else:\r\n",
    "            if data['syn_info'][-1]-bestWMS>0:\r\n",
    "                data['difference syn_info'].append(data['syn_info'][-1]-bestWMS)\r\n",
    "                bestWMS = data['syn_info'][-1]\r\n",
    "            else:\r\n",
    "                data['difference syn_info'].append(0)"
   ],
   "outputs": [
    {
     "output_type": "stream",
     "name": "stdout",
     "text": [
      "0 12:59:22\n",
      "1 12:59:27\n",
      "2 12:59:34\n",
      "3 12:59:40\n",
      "4 12:59:46\n",
      "5 12:59:51\n",
      "6 12:59:59\n",
      "7 13:00:07\n",
      "8 13:00:15\n",
      "9 13:00:25\n",
      "10 13:00:32\n",
      "11 13:00:39\n",
      "12 13:00:46\n",
      "13 13:00:52\n",
      "14 13:00:59\n",
      "15 13:01:04\n",
      "16 13:01:08\n",
      "17 13:01:14\n",
      "18 13:01:20\n",
      "19 13:01:25\n",
      "20 13:01:30\n",
      "21 13:01:36\n",
      "22 13:01:42\n",
      "23 13:01:47\n",
      "24 13:01:53\n"
     ]
    }
   ],
   "metadata": {}
  },
  {
   "cell_type": "code",
   "execution_count": 10,
   "source": [
    "initialdata = pd.DataFrame(data=data)\r\n",
    "initialdata.to_pickle(\"../../results/test/convsyndisc\"+str(states)+\".pkl\") "
   ],
   "outputs": [],
   "metadata": {}
  },
  {
   "cell_type": "code",
   "execution_count": 11,
   "source": [
    "df = pd.read_pickle(\"../../results/test/convsyndisc\"+str(states)+\".pkl\")\r\n",
    "sns.set_context(\"paper\", font_scale = 1.5)\r\n",
    "pointplot=sns.pointplot(data=df,x='repeats',y='difference syn_info')\r\n",
    "fig = pointplot.get_figure()\r\n",
    "\r\n",
    "plt.ylabel(\"improvement syn info\")\r\n",
    "plt.xlabel(\"repeats\")\r\n",
    "plt.title(\"States = \"+str(states))\r\n",
    "# fig.savefig(\"out.png\") "
   ],
   "outputs": [
    {
     "output_type": "execute_result",
     "data": {
      "text/plain": [
       "Text(0.5, 1.0, 'States = 4')"
      ]
     },
     "metadata": {},
     "execution_count": 11
    },
    {
     "output_type": "display_data",
     "data": {
      "text/plain": [
       "<Figure size 432x288 with 1 Axes>"
      ],
      "image/png": "[encoded data removed]"
     },
     "metadata": {}
    }
   ],
   "metadata": {}
  },
  {
   "cell_type": "code",
   "execution_count": null,
   "source": [],
   "outputs": [],
   "metadata": {}
  }
 ],
 "metadata": {
  "kernelspec": {
   "name": "python3",
   "display_name": "Python 3.7.0 64-bit (conda)"
  },
  "language_info": {
   "codemirror_mode": {
    "name": "ipython",
    "version": 3
   },
   "file_extension": ".py",
   "mimetype": "text/x-python",
   "name": "python",
   "nbconvert_exporter": "python",
   "pygments_lexer": "ipython3",
   "version": "3.7.0"
  },
  "interpreter": {
   "hash": "2cbab85b0a12cacaa8de87af201aadcb03d557d3781c80a303422245c6394e20"
  }
 },
 "nbformat": 4,
 "nbformat_minor": 5
}