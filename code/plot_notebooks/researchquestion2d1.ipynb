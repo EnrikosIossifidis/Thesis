{
 "cells": [
  {
   "cell_type": "code",
   "execution_count": 1,
   "source": [
    "import os\r\n",
    "import dit\r\n",
    "import numpy as np\r\n",
    "import pickle\r\n",
    "import matplotlib.pyplot as plt\r\n",
    "import seaborn as sns;sns.set()\r\n",
    "import pandas as pd\r\n",
    "os.chdir(\"../\")\r\n",
    "from helpers.group_helpers import loadsyms, classifylowerorders, classifyoversized\r\n",
    "from helpers.compare_helpers import appendtoPXS\r\n",
    "from jointpdfpython3.measures import synergistic_entropy_upper_bound\r\n",
    "from jointpdfpython3.JointProbabilityMatrix import JointProbabilityMatrix\r\n",
    "os.chdir(\"./plot_notebooks\")"
   ],
   "outputs": [],
   "metadata": {}
  },
  {
   "cell_type": "markdown",
   "source": [
    "## CLASSIFY constructed SRVs and APPEND them to uniform X"
   ],
   "metadata": {}
  },
  {
   "cell_type": "code",
   "execution_count": 10,
   "source": [
    "states = 4\r\n",
    "lenX = 2\r\n",
    "subjects=np.arange(lenX)\r\n",
    "symss = []\r\n",
    "data = {'totmi':[],'indivmi':[],'symsort':[],'states':[]}\r\n",
    "\r\n",
    "concsyms, syms = loadsyms(states)\r\n",
    "syms = classifyoversized(syms,states)\r\n",
    "if 'lower order' in syms.keys():\r\n",
    "    syms = classifylowerorders(states,syms)\r\n",
    "syms.pop('noisy') # skip noisy SRVs for the figure\r\n",
    "\r\n",
    "juni = JointProbabilityMatrix(2,states,joint_probs='iid')\r\n",
    "pX = juni.joint_probabilities.joint_probabilities\r\n",
    "upper = synergistic_entropy_upper_bound(juni)\r\n",
    "for c in syms.keys():\r\n",
    "    cur = syms[c][0]\r\n",
    "    print(c,cur)\r\n",
    "    pXS = appendtoPXS(2,pX,pX,cur)\r\n",
    "    dXS = dit.Distribution.from_ndarray(pXS)\r\n",
    "    indivmi = sum([dit.shannon.mutual_information(dXS,[i],[2]) for i in range(2)])\r\n",
    "    totmi = dit.shannon.mutual_information(dXS,[0,1],[2])\r\n",
    "    data['totmi'].append(totmi)\r\n",
    "    data['indivmi'].append(indivmi)\r\n",
    "    data['symsort'].append(c)\r\n",
    "    data['states'].append(states)\r\n"
   ],
   "outputs": [
    {
     "output_type": "stream",
     "name": "stdout",
     "text": [
      "PSRVs 24\n",
      "noisy 336\n",
      "lower order 60\n",
      "oversized 11520\n",
      "PSRVs [[1. 0. 0. 0.]\n",
      " [0. 1. 0. 0.]\n",
      " [0. 0. 1. 0.]\n",
      " [0. 0. 0. 1.]\n",
      " [0. 1. 0. 0.]\n",
      " [0. 0. 1. 0.]\n",
      " [0. 0. 0. 1.]\n",
      " [1. 0. 0. 0.]\n",
      " [0. 0. 1. 0.]\n",
      " [0. 0. 0. 1.]\n",
      " [1. 0. 0. 0.]\n",
      " [0. 1. 0. 0.]\n",
      " [0. 0. 0. 1.]\n",
      " [1. 0. 0. 0.]\n",
      " [0. 1. 0. 0.]\n",
      " [0. 0. 1. 0.]]\n",
      "oversized states 5 [[0.8 0.  0.  0.  0.2]\n",
      " [0.  0.8 0.  0.  0.2]\n",
      " [0.  0.  0.8 0.  0.2]\n",
      " [0.  0.  0.  0.8 0.2]\n",
      " [0.  0.8 0.  0.  0.2]\n",
      " [0.  0.  0.8 0.  0.2]\n",
      " [0.  0.  0.  0.8 0.2]\n",
      " [0.8 0.  0.  0.  0.2]\n",
      " [0.  0.  0.8 0.  0.2]\n",
      " [0.  0.  0.  0.8 0.2]\n",
      " [0.8 0.  0.  0.  0.2]\n",
      " [0.  0.8 0.  0.  0.2]\n",
      " [0.  0.  0.  0.8 0.2]\n",
      " [0.8 0.  0.  0.  0.2]\n",
      " [0.  0.8 0.  0.  0.2]\n",
      " [0.  0.  0.8 0.  0.2]]\n",
      "oversized states 6 [[0.66666667 0.         0.         0.         0.16666667 0.16666667]\n",
      " [0.         0.66666667 0.         0.         0.16666667 0.16666667]\n",
      " [0.         0.         0.66666667 0.         0.16666667 0.16666667]\n",
      " [0.         0.         0.         0.66666667 0.16666667 0.16666667]\n",
      " [0.         0.66666667 0.         0.         0.16666667 0.16666667]\n",
      " [0.         0.         0.66666667 0.         0.16666667 0.16666667]\n",
      " [0.         0.         0.         0.66666667 0.16666667 0.16666667]\n",
      " [0.66666667 0.         0.         0.         0.16666667 0.16666667]\n",
      " [0.         0.         0.66666667 0.         0.16666667 0.16666667]\n",
      " [0.         0.         0.         0.66666667 0.16666667 0.16666667]\n",
      " [0.66666667 0.         0.         0.         0.16666667 0.16666667]\n",
      " [0.         0.66666667 0.         0.         0.16666667 0.16666667]\n",
      " [0.         0.         0.         0.66666667 0.16666667 0.16666667]\n",
      " [0.66666667 0.         0.         0.         0.16666667 0.16666667]\n",
      " [0.         0.66666667 0.         0.         0.16666667 0.16666667]\n",
      " [0.         0.         0.66666667 0.         0.16666667 0.16666667]]\n",
      "lower order states 2 [[0.5  0.   0.25 0.25]\n",
      " [0.   0.5  0.25 0.25]\n",
      " [0.25 0.25 0.25 0.25]\n",
      " [0.25 0.25 0.25 0.25]\n",
      " [0.   0.5  0.25 0.25]\n",
      " [0.5  0.   0.25 0.25]\n",
      " [0.25 0.25 0.25 0.25]\n",
      " [0.25 0.25 0.25 0.25]\n",
      " [0.25 0.25 0.25 0.25]\n",
      " [0.25 0.25 0.25 0.25]\n",
      " [0.25 0.25 0.25 0.25]\n",
      " [0.25 0.25 0.25 0.25]\n",
      " [0.25 0.25 0.25 0.25]\n",
      " [0.25 0.25 0.25 0.25]\n",
      " [0.25 0.25 0.25 0.25]\n",
      " [0.25 0.25 0.25 0.25]]\n",
      "lower order states 3 [[0.75 0.   0.   0.25]\n",
      " [0.   0.75 0.   0.25]\n",
      " [0.   0.   0.75 0.25]\n",
      " [0.25 0.25 0.25 0.25]\n",
      " [0.   0.75 0.   0.25]\n",
      " [0.   0.   0.75 0.25]\n",
      " [0.75 0.   0.   0.25]\n",
      " [0.25 0.25 0.25 0.25]\n",
      " [0.   0.   0.75 0.25]\n",
      " [0.75 0.   0.   0.25]\n",
      " [0.   0.75 0.   0.25]\n",
      " [0.25 0.25 0.25 0.25]\n",
      " [0.25 0.25 0.25 0.25]\n",
      " [0.25 0.25 0.25 0.25]\n",
      " [0.25 0.25 0.25 0.25]\n",
      " [0.25 0.25 0.25 0.25]]\n"
     ]
    }
   ],
   "metadata": {}
  },
  {
   "cell_type": "markdown",
   "source": [
    "## PLOT SRVs vs I(X;SRV)"
   ],
   "metadata": {}
  },
  {
   "cell_type": "code",
   "execution_count": 11,
   "source": [
    "df = pd.DataFrame(data=data)\r\n",
    "df=df.sort_values(by=['totmi'])\r\n",
    "\r\n",
    "sns.set_context(\"paper\", font_scale = 1.8, rc={\"legend.fontsize\": 14})\r\n",
    "lineplot = sns.scatterplot(data=df,x='symsort',y='totmi',hue='symsort',s=150)\r\n",
    "fig = lineplot.get_figure()\r\n",
    "plt.legend(title='')\r\n",
    "# plt.title(\"Mutual information SRVs and uniform input, states=\"+str(states),fontsize=12)\r\n",
    "plt.xlabel(\"Types of SRVs\")\r\n",
    "plt.ylabel(\"I(X;SRV)\")\r\n",
    "plt.xticks([])\r\n"
   ],
   "outputs": [
    {
     "output_type": "stream",
     "name": "stderr",
     "text": [
      "C:\\Users\\enrik\\Anaconda3\\lib\\site-packages\\ipykernel_launcher.py:11: MatplotlibDeprecationWarning: Support for passing numbers through unit converters is deprecated since 3.5 and support will be removed two minor releases later; use Axis.convert_units instead.\n",
      "  # This is added back by InteractiveShellApp.init_path()\n"
     ]
    },
    {
     "output_type": "execute_result",
     "data": {
      "text/plain": [
       "([], [])"
      ]
     },
     "metadata": {},
     "execution_count": 11
    },
    {
     "output_type": "display_data",
     "data": {
      "text/plain": [
       "<Figure size 432x288 with 1 Axes>"
      ],
      "image/png": "[encoded data removed]"
     },
     "metadata": {}
    }
   ],
   "metadata": {}
  },
  {
   "cell_type": "code",
   "execution_count": null,
   "source": [],
   "outputs": [],
   "metadata": {}
  }
 ],
 "metadata": {
  "celltoolbar": "Geen",
  "kernelspec": {
   "name": "python3",
   "display_name": "Python 3.7.0 64-bit (conda)"
  },
  "language_info": {
   "codemirror_mode": {
    "name": "ipython",
    "version": 3
   },
   "file_extension": ".py",
   "mimetype": "text/x-python",
   "name": "python",
   "nbconvert_exporter": "python",
   "pygments_lexer": "ipython3",
   "version": "3.7.0"
  },
  "interpreter": {
   "hash": "2cbab85b0a12cacaa8de87af201aadcb03d557d3781c80a303422245c6394e20"
  }
 },
 "nbformat": 4,
 "nbformat_minor": 5
}