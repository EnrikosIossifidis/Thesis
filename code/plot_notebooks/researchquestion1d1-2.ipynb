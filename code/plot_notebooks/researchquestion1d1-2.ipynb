{
 "cells": [
  {
   "cell_type": "code",
   "execution_count": 10,
   "source": [
    "import os\r\n",
    "import time\r\n",
    "import glob\r\n",
    "import dit\r\n",
    "import time\r\n",
    "import numpy as np\r\n",
    "import matplotlib.pyplot as plt\r\n",
    "import seaborn as sns;sns.set()\r\n",
    "import pandas as pd\r\n",
    "from dit import Distribution\r\n",
    "os.chdir(\"../\")\r\n",
    "from jointpdfpython3.params_matrix import params2matrix_incremental\r\n",
    "from jointpdfpython3.JointProbabilityMatrix import JointProbabilityMatrix\r\n",
    "from syndisc.syndisc import self_disclosure_channel\r\n",
    "os.chdir(\"./plot_notebooks\")"
   ],
   "outputs": [],
   "metadata": {}
  },
  {
   "cell_type": "markdown",
   "source": [
    "# Plot 25 uniform and random X for jointpdf and syndisc"
   ],
   "metadata": {}
  },
  {
   "cell_type": "markdown",
   "source": [
    "## load and run syndisc with previous pars (for 5 states)\n"
   ],
   "metadata": {}
  },
  {
   "cell_type": "code",
   "execution_count": 11,
   "source": [
    "run=False\r\n",
    "if run:\r\n",
    "    states=5\r\n",
    "    initdata = pd.read_pickle(\"../../results/rq11/randomstates\"+str(states)+\".pkl\")\r\n",
    "    initdata=initdata[initdata['systemID'].isin([0,1,2,3,4])]\r\n",
    "    pars = initdata['parXY'].values\r\n",
    "    lenX=2\r\n",
    "    variables_X=np.arange(lenX)\r\n",
    "    data = {'systemID':[],'parXY':[],'pXS':[],'syn_upper':[],'runtime':[],'I(X;S)':[],'I(Xi;S)':[],'exp_sort':[]}\r\n",
    "    for i,p in enumerate(pars):\r\n",
    "        print(i,time.strftime(\"%H:%M:%S\", time.localtime()))\r\n",
    "        data['systemID'].append(i)\r\n",
    "        data['parXY'].append(p)\r\n",
    "        jX = JointProbabilityMatrix(lenX,states)\r\n",
    "        params2matrix_incremental(jX,p)\r\n",
    "        pX = jX.joint_probabilities.joint_probabilities\r\n",
    "        upper = initdata['syn_upper'].iloc[i]    \r\n",
    "        ditjX = dit.Distribution.from_ndarray(pX)\r\n",
    "        try:\r\n",
    "            before = time.time()\r\n",
    "            syn, probs = self_disclosure_channel(ditjX)\r\n",
    "            data['runtime'].append(time.time()-before)\r\n",
    "\r\n",
    "            vgx = probs['pVgX']\r\n",
    "            x = initdata['pX'].iloc[i]\r\n",
    "            pXS = np.reshape((x*vgx).T, [states]*lenX+[len(x*vgx)])\r\n",
    "            dit_XS = Distribution.from_ndarray(pXS)\r\n",
    "            synvars = list(range(lenX,len(dit_XS.rvs)))\r\n",
    "            data['pXS'].append(pXS)\r\n",
    "            data['I(X;S)'].append(dit.shannon.mutual_information(dit_XS,variables_X,synvars))\r\n",
    "            data['I(Xi;S)'].append(sum([dit.shannon.mutual_information(dit_XS,[i],synvars) for i in variables_X]))\r\n",
    "        except:\r\n",
    "            print(\"syndisc error\")\r\n",
    "            data['pXS'].append([])\r\n",
    "            data['I(X;S)'].append(0)\r\n",
    "            data['I(Xi;S)'].append(0)\r\n",
    "        data['exp_sort'].append('syndisc')\r\n",
    "        data['syn_upper'].append(upper)\r\n",
    "            \r\n",
    "    pddata = pd.DataFrame(data=data)\r\n",
    "    pddata.to_pickle(\"../../results/test/syndiscrandomstates\"+str(states)+\".pkl\") \r\n"
   ],
   "outputs": [],
   "metadata": {}
  },
  {
   "cell_type": "markdown",
   "source": [
    "## load data and plot"
   ],
   "metadata": {}
  },
  {
   "cell_type": "code",
   "execution_count": 12,
   "source": [
    "lenX = 2\r\n",
    "subjects=np.arange(lenX)\r\n",
    "\r\n",
    "dist_type = 'uniformstates'\r\n",
    "ds = []\r\n",
    "folder = '../../results/rq11/'\r\n",
    "os.chdir(folder)\r\n",
    "allfiles = glob.glob(\"*.pkl\")\r\n",
    "if len(allfiles) != 0:\r\n",
    "    name = dist_type\r\n",
    "    files = [file for file in allfiles if name in file]\r\n",
    "    print(files)\r\n",
    "    for f in files:\r\n",
    "        cur = pd.read_pickle(f)\r\n",
    "        if 'syndiscrandomstates' in f:\r\n",
    "            cur['states']=5\r\n",
    "            cur['syn_info'] = cur['I(X;S)']\r\n",
    "            cur['tot_runtime'] = cur['runtime']\r\n",
    "        ds.append(cur)\r\n",
    "os.chdir('../../code/plot_notebooks')\r\n",
    "d = pd.concat(ds)\r\n",
    "d = d[(d['states']!=5)|(d['systemID']<5)]\r\n",
    "d.keys(),len(d)"
   ],
   "outputs": [
    {
     "output_type": "stream",
     "name": "stdout",
     "text": [
      "['uniformstates2.pkl', 'uniformstates3.pkl', 'uniformstates4.pkl']\n"
     ]
    },
    {
     "output_type": "execute_result",
     "data": {
      "text/plain": [
       "(Index(['exp_sort', 'systemID', 'syn_upper', 'shapeS', 'srv_data', 'pX',\n",
       "        'parXY', 'H(Xi)', 'I(X1;X2)', 'runID', 'tot_runtime', 'syn_info',\n",
       "        'lenX', 'lenY', 'states', 'dist_type', 'num_srvs', 'systems', 'prev',\n",
       "        'exp', 'save', 'folder', 'rowfolder', 'tot_repeats', 'mm',\n",
       "        'summed_modulo', 'tol'],\n",
       "       dtype='object'),\n",
       " 150)"
      ]
     },
     "metadata": {},
     "execution_count": 12
    }
   ],
   "metadata": {}
  },
  {
   "cell_type": "code",
   "execution_count": 13,
   "source": [
    "states=2\r\n",
    "plot = d[d['states']==states]\r\n",
    "plot['norm syn info'] = plot['syn_info']/plot['syn_upper']\r\n",
    "if states == 5:\r\n",
    "    xaxis='runtime (minutes)'\r\n",
    "    plot[xaxis]=plot['tot_runtime']/60\r\n",
    "else:\r\n",
    "    xaxis='runtime (seconds)'\r\n",
    "    plot[xaxis]=plot['tot_runtime']\r\n",
    "\r\n",
    "yaxis='norm syn info'\r\n",
    "hue='exp_sort'\r\n",
    "sns.set_context(\"paper\", font_scale = 1.6, rc={\"grid.linewidth\": 1})\r\n",
    "f=sns.jointplot(data=plot,x=xaxis,y=yaxis,hue=hue,s=80)\r\n",
    "\r\n",
    "if 'random' in name:\r\n",
    "    title = \"random inputs X, states: \"+str(states)\r\n",
    "else:\r\n",
    "    title = \"uniform inputs X, states: \"+str(states)\r\n",
    "f.fig.suptitle(title,y=1.0)\r\n",
    "\r\n",
    "plt.ylim(-0.1,plot['syn_info'].max()+0.1)"
   ],
   "outputs": [
    {
     "output_type": "stream",
     "name": "stderr",
     "text": [
      "C:\\Users\\enrik\\Anaconda3\\lib\\site-packages\\ipykernel_launcher.py:3: SettingWithCopyWarning: \n",
      "A value is trying to be set on a copy of a slice from a DataFrame.\n",
      "Try using .loc[row_indexer,col_indexer] = value instead\n",
      "\n",
      "See the caveats in the documentation: https://pandas.pydata.org/pandas-docs/stable/user_guide/indexing.html#returning-a-view-versus-a-copy\n",
      "  This is separate from the ipykernel package so we can avoid doing imports until\n",
      "C:\\Users\\enrik\\Anaconda3\\lib\\site-packages\\ipykernel_launcher.py:9: SettingWithCopyWarning: \n",
      "A value is trying to be set on a copy of a slice from a DataFrame.\n",
      "Try using .loc[row_indexer,col_indexer] = value instead\n",
      "\n",
      "See the caveats in the documentation: https://pandas.pydata.org/pandas-docs/stable/user_guide/indexing.html#returning-a-view-versus-a-copy\n",
      "  if __name__ == '__main__':\n",
      "C:\\Users\\enrik\\Anaconda3\\lib\\site-packages\\seaborn\\distributions.py:305: UserWarning: Dataset has 0 variance; skipping density estimate.\n",
      "  warnings.warn(msg, UserWarning)\n",
      "C:\\Users\\enrik\\Anaconda3\\lib\\site-packages\\seaborn\\distributions.py:305: UserWarning: Dataset has 0 variance; skipping density estimate.\n",
      "  warnings.warn(msg, UserWarning)\n"
     ]
    },
    {
     "output_type": "execute_result",
     "data": {
      "text/plain": [
       "(-0.1, 1.1)"
      ]
     },
     "metadata": {},
     "execution_count": 13
    },
    {
     "output_type": "display_data",
     "data": {
      "text/plain": [
       "<Figure size 432x432 with 3 Axes>"
      ],
      "image/png": "[encoded data removed]"
     },
     "metadata": {}
    }
   ],
   "metadata": {}
  },
  {
   "cell_type": "code",
   "execution_count": null,
   "source": [],
   "outputs": [],
   "metadata": {}
  }
 ],
 "metadata": {
  "celltoolbar": "Geen",
  "kernelspec": {
   "name": "python3",
   "display_name": "Python 3.7.0 64-bit (conda)"
  },
  "language_info": {
   "codemirror_mode": {
    "name": "ipython",
    "version": 3
   },
   "file_extension": ".py",
   "mimetype": "text/x-python",
   "name": "python",
   "nbconvert_exporter": "python",
   "pygments_lexer": "ipython3",
   "version": "3.7.0"
  },
  "interpreter": {
   "hash": "2cbab85b0a12cacaa8de87af201aadcb03d557d3781c80a303422245c6394e20"
  }
 },
 "nbformat": 4,
 "nbformat_minor": 5
}