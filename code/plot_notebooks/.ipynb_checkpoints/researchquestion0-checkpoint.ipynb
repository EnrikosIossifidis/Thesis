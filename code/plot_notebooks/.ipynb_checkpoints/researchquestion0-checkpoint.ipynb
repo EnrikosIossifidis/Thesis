{
 "cells": [
  {
   "cell_type": "code",
   "execution_count": 7,
   "id": "dd8c7966",
   "metadata": {},
   "outputs": [],
   "source": [
    "import os\n",
    "import random\n",
    "import time\n",
    "import glob\n",
    "import json\n",
    "import dit\n",
    "import itertools\n",
    "import time\n",
    "from datetime import datetime\n",
    "import numpy as np\n",
    "import pickle\n",
    "import matplotlib.pyplot as plt\n",
    "import pandas as pd\n",
    "from scipy.optimize import minimize\n",
    "from functools import partial\n",
    "os.chdir(\"../\")\n",
    "from helpers.group_helpers import classify_syms, srv_to_mat\n",
    "from helpers.compare_helpers import appendtoPXS,load_frame,addbestsym\n",
    "from jointpdfpython3.measures import synergistic_entropy_upper_bound, append_random_srv\n",
    "from jointpdfpython3.params_matrix import params2matrix_incremental,matrix2params_incremental\n",
    "from jointpdfpython3.JointProbabilityMatrix import JointProbabilityMatrix\n",
    "from syndisc.syndisc import self_disclosure_channel\n",
    "os.chdir(\"./plot_notebooks\")\n",
    "import seaborn as sns;sns.set()"
   ]
  },
  {
   "cell_type": "markdown",
   "id": "39d00a3f",
   "metadata": {},
   "source": [
    "## Convergence of scipy minimize (jointpdf)"
   ]
  },
  {
   "cell_type": "code",
   "execution_count": 18,
   "id": "abd51856",
   "metadata": {},
   "outputs": [],
   "source": [
    "from scipy.optimize import minimize\n",
    "\n",
    "class OpObj(object):\n",
    "    def __init__(self, jXS,subjects,sid):\n",
    "        self.jXS = jXS\n",
    "        self.subjects=subjects\n",
    "        self.sid=sid\n",
    "        self.f = np.full(shape=(500,), fill_value=np.NaN)\n",
    "        self.count = 0\n",
    "    def _fun(self):\n",
    "        totmi = self.jXS.mutual_information(self.subjects,[self.sid])\n",
    "        indivmis = sum([self.jXS.mutual_information([i],[self.sid]) for i in self.subjects])        \n",
    "        return totmi-indivmis\n",
    "#         return self.jXS.synergistic_information_naive()\n",
    "    \n",
    "def cb(xk, obj=None):\n",
    "    obj.f[obj.count] = obj._fun()\n",
    "    obj.count += 1\n",
    "\n",
    "def costf(srvparams,jXS,lenJXS,parX,subjects,upper):\n",
    "    params2matrix_incremental(jXS,parX+list(srvparams))\n",
    "    totmi = jXS.mutual_information(subjects,[lenJXS-1])\n",
    "    indivmis = sum([jXS.mutual_information([i],[lenJXS-1]) for i in subjects])\n",
    "    cost=abs((upper-(totmi-indivmis))/upper)\n",
    "    if totmi != 0:\n",
    "        return cost+((indivmis/totmi))\n",
    "    else:\n",
    "        return cost+(indivmis)\n",
    "\n",
    "minimize_options = {'ftol': 1e-6}\n",
    "def symsyninfo(states,lenX,jX,syms,initialtype='first',costf=costfunc):\n",
    "    subjects = list(range(lenX))\n",
    "    parX = matrix2params_incremental(jX)\n",
    "    upper = synergistic_entropy_upper_bound(jX)\n",
    "    jXS = append_random_srv(jX,parX,1)\n",
    "    lenJXS = len(jXS)\n",
    "    bestsymid=-1\n",
    "    # get initial guess of best sym\n",
    "    if initialtype!='random':\n",
    "        if initialtype=='first':\n",
    "            syms=[syms[0]]\n",
    "        pXSym,bestsymid = addbestsym(lenX,jX,upper,syms)\n",
    "        jXS.joint_probabilities.joint_probabilities = pXSym\n",
    "\n",
    "    freeparams = (states**(lenJXS))-(states**(len(jX)))\n",
    "    symparams = matrix2params_incremental(jXS)[-freeparams:]\n",
    "    subjects = np.arange(lenX)\n",
    "    op_obj = OpObj(jXS,subjects,lenJXS-1)\n",
    "    optres_ix = minimize(costf,\n",
    "                            symparams,\n",
    "                            bounds=[(0.0, 1.0)]*freeparams,\n",
    "                            callback=partial(cb,obj=op_obj),\n",
    "                            args=(jXS,lenJXS,parX,subjects,upper),options=minimize_options)\n",
    "    params2matrix_incremental(jXS,parX+list(optres_ix.x))\n",
    "    return bestsymid,jXS, op_obj"
   ]
  },
  {
   "cell_type": "markdown",
   "id": "1c02c9dc",
   "metadata": {},
   "source": [
    "## WMS value for increasing repeats (jointpdf)"
   ]
  },
  {
   "cell_type": "code",
   "execution_count": 19,
   "id": "25f7235c",
   "metadata": {},
   "outputs": [
    {
     "name": "stdout",
     "output_type": "stream",
     "text": [
      "0 2022-05-11 12:56:33.146038\n",
      "1\n"
     ]
    },
    {
     "ename": "NameError",
     "evalue": "name 'freeparams' is not defined",
     "output_type": "error",
     "traceback": [
      "\u001b[1;31m---------------------------------------------------------------------------\u001b[0m",
      "\u001b[1;31mNameError\u001b[0m                                 Traceback (most recent call last)",
      "\u001b[1;32m<ipython-input-19-3d827d0c86ad>\u001b[0m in \u001b[0;36m<module>\u001b[1;34m\u001b[0m\n\u001b[0;32m     23\u001b[0m             optres_ix = minimize(costf,\n\u001b[0;32m     24\u001b[0m                                     \u001b[0mparS\u001b[0m\u001b[1;33m,\u001b[0m\u001b[1;33m\u001b[0m\u001b[0m\n\u001b[1;32m---> 25\u001b[1;33m                                     \u001b[0mbounds\u001b[0m\u001b[1;33m=\u001b[0m\u001b[1;33m[\u001b[0m\u001b[1;33m(\u001b[0m\u001b[1;36m0.0\u001b[0m\u001b[1;33m,\u001b[0m \u001b[1;36m1.0\u001b[0m\u001b[1;33m)\u001b[0m\u001b[1;33m]\u001b[0m\u001b[1;33m*\u001b[0m\u001b[0mfreeparams\u001b[0m\u001b[1;33m,\u001b[0m\u001b[1;33m\u001b[0m\u001b[0m\n\u001b[0m\u001b[0;32m     26\u001b[0m                                     args=(jXS,lenJXS,parX,subjects,upper),options=minimize_options)\n\u001b[0;32m     27\u001b[0m             \u001b[0mopts\u001b[0m\u001b[1;33m.\u001b[0m\u001b[0mappend\u001b[0m\u001b[1;33m(\u001b[0m\u001b[0moptres_ix\u001b[0m\u001b[1;33m.\u001b[0m\u001b[0mx\u001b[0m\u001b[1;33m)\u001b[0m\u001b[1;33m\u001b[0m\u001b[0m\n",
      "\u001b[1;31mNameError\u001b[0m: name 'freeparams' is not defined"
     ]
    }
   ],
   "source": [
    "x=np.linspace(1,500,500)\n",
    "states = 2\n",
    "lenX = 2\n",
    "subjects = np.arange(lenX)\n",
    "t='random'\n",
    "cursyms = []\n",
    "data = {'systemID':[],'step':[],'WMS(X;S)':[],'difference':[]}\n",
    "samples = 1\n",
    "repeats = 1\n",
    "for sys in range(samples):\n",
    "    print(sys,datetime.fromtimestamp(time.time()))\n",
    "    jXS = JointProbabilityMatrix(lenX+1,states)\n",
    "    lenJXS = len(jXS)\n",
    "    upper = synergistic_entropy_upper_bound(jXS[subjects])\n",
    "    parXS = matrix2params_incremental(jXS)\n",
    "    parX = parXS[:(states**lenX)-1]\n",
    "    freeparams = len(parXS[(states**lenX)-1:])\n",
    "    for test in range(1,repeats+1):\n",
    "        opts = []\n",
    "        costs = []\n",
    "        print(test)\n",
    "        for _ in range(test):\n",
    "            parS = np.random.random(freeparams)\n",
    "            optres_ix = minimize(costf,\n",
    "                                    parS,\n",
    "                                    bounds=[(0.0, 1.0)]*freeparams,\n",
    "                                    args=(jXS,lenJXS,parX,subjects,upper),options=minimize_options)\n",
    "            opts.append(optres_ix.x)\n",
    "            costs.append(optres_ix.fun)\n",
    "            print(optres_ix)\n",
    "        opt = opts[costs.index(min(costs))]\n",
    "        params2matrix_incremental(jXS,parX+list(opt))\n",
    "        totmi = jXS.mutual_information(subjects,[lenJXS-1])\n",
    "        indivmis = sum([jXS.mutual_information([i],[lenJXS-1]) for i in subjects])\n",
    "        data['systemID'].append(sys)\n",
    "        data['repeats'].append(test)\n",
    "        data['WMS(X;S)'].append(totmi=indivmis)\n",
    "\n",
    "data"
   ]
  },
  {
   "cell_type": "markdown",
   "id": "dc498517",
   "metadata": {},
   "source": [
    "## Convergence of difference in WMS (jointpdf)"
   ]
  },
  {
   "cell_type": "code",
   "execution_count": 30,
   "id": "f6074d16",
   "metadata": {},
   "outputs": [],
   "source": [
    "# x=np.linspace(1,500,500)\n",
    "# states = 4\n",
    "# lenX = 2\n",
    "# t='random'\n",
    "# cursyms = []\n",
    "# data = {'systemID':[],'step':[],'WMS(X;S)':[],'difference':[]}\n",
    "# samples = 15\n",
    "# repeats = 20\n",
    "# for sys in range(samples):\n",
    "#     print(sys,datetime.fromtimestamp(time.time()))\n",
    "#     jX = JointProbabilityMatrix(lenX,states)\n",
    "#     for test in range(repeats):\n",
    "#         best, jXS,op_obj = symsyninfo(states,lenX,jX,\\\n",
    "#                        cursyms,initialtype=t,costf=costfunc)\n",
    "#         a = list(op_obj.f[~np.isnan(op_obj.f)])\n",
    "#         data['systemID'].append([sys for _ in range(len(a))])\n",
    "#         data['step'].append(np.arange(len(a)))\n",
    "#         data['WMS(X;S)'].append(a)\n",
    "#         x=np.arange(0,len(a))\n",
    "#         a = [0]+list(np.diff(a))\n",
    "#         data['difference'].append(a)\n",
    "\n",
    "# df = pd.DataFrame(data=data)\n",
    "# df=df.apply(pd.Series.explode).reset_index()\n",
    "# # df.to_pickle(\"../../results/test/optimalityjointpdfstates\"+str(states)+\"-2.pkl\") "
   ]
  },
  {
   "cell_type": "markdown",
   "id": "5a56be66",
   "metadata": {},
   "source": [
    "## Save load plot"
   ]
  },
  {
   "cell_type": "code",
   "execution_count": 33,
   "id": "64a67c60",
   "metadata": {},
   "outputs": [
    {
     "data": {
      "image/png": "[encoded data removed]",
      "text/plain": [
       "<Figure size 432x288 with 1 Axes>"
      ]
     },
     "metadata": {},
     "output_type": "display_data"
    }
   ],
   "source": [
    "df = pd.DataFrame(data=data)\n",
    "df=df.apply(pd.Series.explode).reset_index()\n",
    "df.to_pickle(\"../../results/test/optimalityscipystates\"+str(states)+\".pkl\") \n",
    "\n",
    "fig, ax = plt.subplots(1,1)\n",
    "# ax=sns.pointplot(data=df,x='step',y='WMS(X;S)',hue='systemID')\n",
    "ax=sns.pointplot(data=df,x='step',y='difference')\n",
    "# ax2 = plt.twinx()\n",
    "# sns.pointplot(data=df,x='step',y='difference',hue='systemID',ci='sd',palette=['red'],ax=ax2)\n",
    "plt.title(\"Convergence scipy.optimize.minimize,states=\"+str(states)+\" ,systems=\"+\\\n",
    "          str(samples)+\", recalcs=\"+str(repeats))\n",
    "plt.show()\n",
    "\n",
    "fig, ax = plt.subplots(1,1)\n",
    "ax=sns.pointplot(data=df,x='step',y='difference')\n",
    "plt.ylabel(\"difference with step-1\")\n",
    "plt.title(\"Convergence scipy.optimize.minimize, systems=\"+str(samples)+\", recalcs=\"+str(repeats))\n",
    "plt.show()"
   ]
  },
  {
   "cell_type": "markdown",
   "id": "af94592e",
   "metadata": {},
   "source": [
    "## Compute X multiple increasing times (syndisc)"
   ]
  },
  {
   "cell_type": "code",
   "execution_count": 29,
   "id": "a48a38e2",
   "metadata": {},
   "outputs": [
    {
     "name": "stdout",
     "output_type": "stream",
     "text": [
      "0 12:29:04\n",
      "1 12:29:04\n",
      "2 12:29:05\n",
      "3 12:29:05\n",
      "4 12:29:05\n",
      "5 12:29:05\n"
     ]
    },
    {
     "data": {
      "text/plain": [
       "Text(0.5, 1.0, 'Convergence to syn info (syndisc)')"
      ]
     },
     "execution_count": 29,
     "metadata": {},
     "output_type": "execute_result"
    },
    {
     "data": {
      "image/png": "[encoded data removed]",
      "text/plain": [
       "<Figure size 432x288 with 1 Axes>"
      ]
     },
     "metadata": {},
     "output_type": "display_data"
    }
   ],
   "source": [
    "data = {'systemID':[],'parX':[],'upper':[],'syn info':[],'runtime':[],'repeats':[]}\n",
    "meansize = np.arange(5)+1\n",
    "samples=6\n",
    "for i in range(samples):\n",
    "    print(i,time.strftime(\"%H:%M:%S\", time.localtime()))\n",
    "    jX = JointProbabilityMatrix(lenX,states)\n",
    "    upper = synergistic_entropy_upper_bound(jX)\n",
    "    pX = jX.joint_probabilities.joint_probabilities\n",
    "    parX = matrix2params_incremental(jX)\n",
    "    for m in meansize:\n",
    "        totruntime = 0\n",
    "        tottotmi = 0\n",
    "        totindivmi = 0\n",
    "        for _ in range(m):\n",
    "            ditjX = dit.Distribution.from_ndarray(pX)\n",
    "            try:                \n",
    "                before = time.time()\n",
    "                syn, probs = self_disclosure_channel(ditjX)\n",
    "                totruntime+=time.time()-before\n",
    "                tottotmi+=syn\n",
    "            except:\n",
    "                print(\"Error occured\",i)            \n",
    "        data['runtime'].append(totruntime)\n",
    "        data['syn info'].append(tottotmi/m)  \n",
    "        data['repeats'].append(m)\n",
    "        data['systemID'].append(i)\n",
    "        data['upper'].append(upper)\n",
    "        data['parX'].append(parX)\n",
    "\n",
    "hue='systemID'\n",
    "initialdata = pd.DataFrame(data=data)\n",
    "initialdata.to_pickle(\"../../results/test/optimalitysyndisc\"+str(states)+\"-\"+str(i)+\".pkl\") \n",
    "sns.scatterplot(data=initialdata,x='runtime',y='syn info',style='repeats',s=100,hue=hue,palette='tab10')\n",
    "plt.legend(bbox_to_anchor=(1.05, 1), loc=2, borderaxespad=0.01)\n",
    "plt.title(\"Convergence to syn info (syndisc)\")"
   ]
  },
  {
   "cell_type": "code",
   "execution_count": null,
   "id": "1977fd1b",
   "metadata": {},
   "outputs": [],
   "source": []
  }
 ],
 "metadata": {
  "kernelspec": {
   "display_name": "Python 3",
   "language": "python",
   "name": "python3"
  },
  "language_info": {
   "codemirror_mode": {
    "name": "ipython",
    "version": 3
   },
   "file_extension": ".py",
   "mimetype": "text/x-python",
   "name": "python",
   "nbconvert_exporter": "python",
   "pygments_lexer": "ipython3",
   "version": "3.7.0"
  }
 },
 "nbformat": 4,
 "nbformat_minor": 5
}
