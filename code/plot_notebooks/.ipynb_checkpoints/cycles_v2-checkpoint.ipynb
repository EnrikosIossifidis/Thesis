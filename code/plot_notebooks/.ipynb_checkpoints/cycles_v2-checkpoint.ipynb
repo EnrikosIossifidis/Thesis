{
 "cells": [
  {
   "cell_type": "code",
   "execution_count": null,
   "id": "af6d24e7",
   "metadata": {},
   "outputs": [],
   "source": []
  },
  {
   "cell_type": "code",
   "execution_count": null,
   "id": "c67c22dd",
   "metadata": {},
   "outputs": [],
   "source": [
    "def get_cycle(a,cur):\n",
    "    b = []\n",
    "    for i in a:\n",
    "        curix = np.where(cur==i)\n",
    "        wlast = curix[:-1]\n",
    "        if len(wlast) == 0:\n",
    "            curlen = len(cur)\n",
    "            lastix = curix[0]\n",
    "            newix = (lastix+1)%curlen\n",
    "            newval = cur[newix]\n",
    "        else:\n",
    "            curlen = len(cur[wlast][0])\n",
    "            lastix = curix[-1:][0]\n",
    "            newix = (lastix+1)%curlen\n",
    "            newval = cur[wlast][0][newix]    \n",
    "        b.append(newval[0])\n",
    "    return b\n",
    "\n",
    "def compute_cycle(c1,c2,a):\n",
    "    b = get_cycle(a,np.array(c1))\n",
    "    c = get_cycle(b,np.array(c2))\n",
    "    print(b,c)\n",
    "    valid_comb = np.all((a==np.array(c)) == False)\n",
    "    print(valid_comb)\n",
    "    \n",
    "for c1 in cycles:\n",
    "    for c2 in cycles:\n",
    "        compute_cycle(c1,c2,a)\n",
    "        \n",
    "# get_all_cycles(5)\n",
    "cProfile.run('get_all_cycles(5)','test')\n",
    "p = pstats.Stats('test')\n",
    "p.strip_dirs().sort_stats('cumtime').print_stats(30)"
   ]
  }
 ],
 "metadata": {
  "kernelspec": {
   "display_name": "Python 3",
   "language": "python",
   "name": "python3"
  },
  "language_info": {
   "codemirror_mode": {
    "name": "ipython",
    "version": 3
   },
   "file_extension": ".py",
   "mimetype": "text/x-python",
   "name": "python",
   "nbconvert_exporter": "python",
   "pygments_lexer": "ipython3",
   "version": "3.7.0"
  }
 },
 "nbformat": 4,
 "nbformat_minor": 5
}
