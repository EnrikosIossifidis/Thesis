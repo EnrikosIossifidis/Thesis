{
 "cells": [
  {
   "cell_type": "code",
   "execution_count": 1,
   "id": "474f4e44",
   "metadata": {},
   "outputs": [],
   "source": [
    "import pandas as pd\n",
    "import numpy as np\n",
    "import matplotlib.pyplot as plt\n",
    "import seaborn as sns\n",
    "import os,glob\n",
    "os.chdir(\"../helpers\")\n",
    "import helpers\n",
    "\n",
    "# correct path to right experiment folder\n",
    "os.chdir(\"../../results/preliminaries/joint_syndisc/\")\n"
   ]
  },
  {
   "cell_type": "code",
   "execution_count": 4,
   "id": "ce290357",
   "metadata": {},
   "outputs": [
    {
     "name": "stdout",
     "output_type": "stream",
     "text": [
      "['states4time20220203-222100.pkl']\n"
     ]
    }
   ],
   "source": [
    "# prep pickle for plot\n",
    "files = glob.glob(\"*.pkl\")[-1:]\n",
    "print(files)\n",
    "files_dataframes = [pd.read_pickle(f) for f in files]\n",
    "d = files_dataframes\n",
    "d = pd.concat(d)"
   ]
  },
  {
   "cell_type": "code",
   "execution_count": 5,
   "id": "e0435334",
   "metadata": {},
   "outputs": [
    {
     "name": "stderr",
     "output_type": "stream",
     "text": [
      "C:\\Users\\enrik\\Anaconda3\\lib\\site-packages\\pandas\\core\\indexing.py:1637: SettingWithCopyWarning: \n",
      "A value is trying to be set on a copy of a slice from a DataFrame\n",
      "\n",
      "See the caveats in the documentation: https://pandas.pydata.org/pandas-docs/stable/user_guide/indexing.html#returning-a-view-versus-a-copy\n",
      "  self._setitem_single_block(indexer, value, name)\n"
     ]
    },
    {
     "data": {
      "text/plain": [
       "0.8949624505552096"
      ]
     },
     "execution_count": 5,
     "metadata": {},
     "output_type": "execute_result"
    }
   ],
   "source": [
    "d['H(S)'] = d['H(S)'].fillna(0)\n",
    "d['rel_syn'] = d['syn_info']/d['syn_upper']\n",
    "d = helpers.sort_systems_runs(d)\n",
    "d = helpers.swithcols(['states','systemID','runID','syn_info','rel_syn'],d)\n",
    "d['rel_syn'].max()"
   ]
  },
  {
   "cell_type": "markdown",
   "id": "e386e2ca",
   "metadata": {},
   "source": [
    "## For each number of states, plot runtime vs $\\frac{I(S;X)}{H(X)-H(Xmax)}$ with jointpdf \\& syndisc "
   ]
  },
  {
   "cell_type": "code",
   "execution_count": 6,
   "id": "2eb38750",
   "metadata": {},
   "outputs": [
    {
     "data": {
      "image/png": "[encoded data removed]",
      "text/plain": [
       "<Figure size 432x360 with 3 Axes>"
      ]
     },
     "metadata": {},
     "output_type": "display_data"
    }
   ],
   "source": [
    "import matplotlib.gridspec as gridspec\n",
    "import seaborn as sns; sns.set()\n",
    "\n",
    "states = d['states'].unique()\n",
    "fig = plt.figure(figsize=(6*len(states),5*len(states)))\n",
    "gs = gridspec.GridSpec(1,len(states))\n",
    "xlabel = 'tot_runtime'\n",
    "ylabel = 'rel_syn'\n",
    "for i,s in enumerate(states):\n",
    "    g = sns.jointplot(data=d[d['states']==s], x=xlabel, y=ylabel, \n",
    "                      hue=\"exp_sort\",palette='tab10', space=0)\n",
    "    g.ax_marg_y.set_ylim(-0.1,d[d['states']==s][ylabel].max()+0.1)\n",
    "    g.ax_marg_x.set_xlim(-0.1,d[d['states']==s][xlabel].max()+1)\n",
    "    m = helpers.SeabornFig2Grid(g, fig, gs[i],\"States = \"+str(s))\n",
    "\n",
    "gs.tight_layout(fig)\n",
    "gs.update(top=0.6)\n",
    "\n",
    "plt.show()"
   ]
  },
  {
   "cell_type": "code",
   "execution_count": null,
   "id": "5740f139",
   "metadata": {},
   "outputs": [],
   "source": []
  }
 ],
 "metadata": {
  "kernelspec": {
   "display_name": "Python 3",
   "language": "python",
   "name": "python3"
  },
  "language_info": {
   "codemirror_mode": {
    "name": "ipython",
    "version": 3
   },
   "file_extension": ".py",
   "mimetype": "text/x-python",
   "name": "python",
   "nbconvert_exporter": "python",
   "pygments_lexer": "ipython3",
   "version": "3.7.0"
  }
 },
 "nbformat": 4,
 "nbformat_minor": 5
}
