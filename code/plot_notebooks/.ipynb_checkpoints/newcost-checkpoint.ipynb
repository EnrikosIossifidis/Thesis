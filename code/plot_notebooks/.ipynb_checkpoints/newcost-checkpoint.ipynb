{
 "cells": [
  {
   "cell_type": "code",
   "execution_count": 2,
   "id": "f1cdfd37",
   "metadata": {},
   "outputs": [],
   "source": [
    "import os\n",
    "import random\n",
    "import time\n",
    "import glob\n",
    "import json\n",
    "import dit\n",
    "import itertools\n",
    "import time\n",
    "import numpy as np\n",
    "import pickle\n",
    "import matplotlib.pyplot as plt\n",
    "import seaborn as sns;sns.set()\n",
    "import pandas as pd\n",
    "from scipy.optimize import minimize\n",
    "os.chdir(\"../\")\n",
    "from helpers.group_helpers import classify_syms, srv_to_mat\n",
    "from helpers.compare_helpers import appendtoPXS,load_frame,addbestsym\n",
    "from jointpdfpython3.measures import synergistic_entropy_upper_bound, append_random_srv\n",
    "from jointpdfpython3.params_matrix import params2matrix_incremental,matrix2params_incremental\n",
    "from jointpdfpython3.JointProbabilityMatrix import JointProbabilityMatrix\n",
    "from syndisc.syndisc import self_disclosure_channel\n",
    "os.chdir(\"./plot_notebooks\")"
   ]
  },
  {
   "cell_type": "code",
   "execution_count": 3,
   "id": "3c595a3b",
   "metadata": {},
   "outputs": [
    {
     "name": "stdout",
     "output_type": "stream",
     "text": [
      "21 dict_keys(['full sym', 'lower order sym', 'oversized states 3', 'oversized states 4'])\n"
     ]
    }
   ],
   "source": [
    "lenX = 2\n",
    "states = 2\n",
    "subjects = list(range(lenX))\n",
    "\n",
    "# load sym\n",
    "with open('../../results/sudokus/constructedSRVstates'+str(states)+'.npy', 'rb') as f:\n",
    "    syms = np.load(f,allow_pickle=True)\n",
    "l, cs = classify_syms(syms,states)\n",
    "print(len(syms),cs.keys())"
   ]
  },
  {
   "cell_type": "code",
   "execution_count": null,
   "id": "ecaa78e1",
   "metadata": {},
   "outputs": [],
   "source": [
    "jX = JointProbabilityMatrix(lenX,states)\n",
    "upper = synergistic_entropy_upper_bound(jX)\n",
    "pX = jX.joint_probabilities.joint_probabilities\n",
    "parX = matrix2params_incremental(jX)\n",
    "\n",
    "symsyninfo(states,lenX,jX,\\\n",
    "               cursyms,initialtype=t)\n",
    "for t in types:\n",
    "    if t !='syndisc':\n",
    "        if t == 'full':\n",
    "            cursyms = syms[cs['full sym']]\n",
    "        elif t == 'bestofall':\n",
    "            cursyms = syms[cs['full sym']+cs['noisy sym']]\n",
    "        elif t=='first':\n",
    "            cursyms = [syms[0]]\n",
    "        before = time.time()\n",
    "        best, jXS = symsyninfo(states,lenX,jX,\\\n",
    "               cursyms,initialtype=t)\n",
    "        data['runtime'].append(time.time()-before)\n",
    "        data['indivmi'].append(sum([jXS.mutual_information([s],[lenX]) for s in subjects]))\n",
    "        data['totmi'].append(jXS.mutual_information(subjects,[lenX]))\n"
   ]
  }
 ],
 "metadata": {
  "kernelspec": {
   "display_name": "Python 3",
   "language": "python",
   "name": "python3"
  },
  "language_info": {
   "codemirror_mode": {
    "name": "ipython",
    "version": 3
   },
   "file_extension": ".py",
   "mimetype": "text/x-python",
   "name": "python",
   "nbconvert_exporter": "python",
   "pygments_lexer": "ipython3",
   "version": "3.7.0"
  }
 },
 "nbformat": 4,
 "nbformat_minor": 5
}
