{
 "cells": [
  {
   "cell_type": "code",
   "execution_count": null,
   "source": [
    "import os\r\n",
    "import random\r\n",
    "import time\r\n",
    "import glob\r\n",
    "import json\r\n",
    "import dit\r\n",
    "import itertools\r\n",
    "import time\r\n",
    "import numpy as np\r\n",
    "import pickle\r\n",
    "from datetime import datetime\r\n",
    "import matplotlib.pyplot as plt\r\n",
    "from matplotlib import gridspec\r\n",
    "import seaborn as sns;sns.set()\r\n",
    "import pandas as pd\r\n",
    "from scipy.optimize import minimize\r\n",
    "os.chdir(\"../\")\r\n",
    "from helpers.group_helpers import loadsyms, classifylowerorders, classifyoversized\r\n",
    "from helpers.group_helpers import classify_syms, srv_to_mat, getcond, oversizedsyms\r\n",
    "from helpers.compare_helpers import appendtoPXS,load_frame,addbestsym,normcondentropy\r\n",
    "from jointpdfpython3.measures import synergistic_entropy_upper_bound, append_random_srv\r\n",
    "from jointpdfpython3.params_matrix import params2matrix_incremental,matrix2params_incremental\r\n",
    "from jointpdfpython3.JointProbabilityMatrix import JointProbabilityMatrix\r\n",
    "from syndisc.syndisc import self_disclosure_channel\r\n",
    "os.chdir(\"./plot_notebooks\")"
   ],
   "outputs": [],
   "metadata": {}
  },
  {
   "cell_type": "markdown",
   "source": [
    "## Load syms and cluster by SRV type"
   ],
   "metadata": {}
  },
  {
   "cell_type": "code",
   "execution_count": null,
   "source": [
    "states = 2\r\n",
    "lenX = 2\r\n",
    "subjects=np.arange(lenX)\r\n",
    "symss = []\r\n",
    "data = {'totmi':[],'indivmi':[],'symsort':[],'states':[]}\r\n",
    "\r\n",
    "concsyms, syms = loadsyms(states)\r\n",
    "syms = classifyoversized(syms,states)\r\n",
    "if 'lower order' in syms.keys():\r\n",
    "    syms = classifylowerorders(states,syms)\r\n",
    "\r\n",
    "listsyms = []\r\n",
    "symids = {}\r\n",
    "previd = 0\r\n",
    "for k in syms.keys():\r\n",
    "    for s in syms[k]:\r\n",
    "        listsyms.append(s)\r\n",
    "        symids[k] = np.arange(previd,previd+len(syms[k]))\r\n",
    "    previd = previd+len(syms[k])"
   ],
   "outputs": [],
   "metadata": {}
  },
  {
   "cell_type": "markdown",
   "source": [
    "## Compute cost of each constructed SRV given X"
   ],
   "metadata": {}
  },
  {
   "cell_type": "code",
   "execution_count": null,
   "source": [
    "def getcosts(row,syms):\r\n",
    "    costs = []\r\n",
    "    lenjXS = int(row['lenX'])\r\n",
    "    upper = row['syn_upper']\r\n",
    "    print(row['systemID'])\r\n",
    "    for i,s in enumerate(syms):\r\n",
    "        pX = row['pX'].copy()\r\n",
    "        pXSSym = appendtoPXS(lenX,pX,pX,s)\r\n",
    "        d = dit.Distribution.from_ndarray(pXSSym)\r\n",
    "        totmi = dit.shannon.mutual_information(d,subjects,[lenjXS])\r\n",
    "        indivmi = sum([dit.shannon.mutual_information(d,[j],[lenjXS]) for j in subjects])\r\n",
    "        wms = totmi-indivmi\r\n",
    "        cost = (upper - wms)/upper\r\n",
    "        if totmi!=0:\r\n",
    "            cost+=(indivmi/totmi)\r\n",
    "        else:\r\n",
    "            cost+=indivmi\r\n",
    "        costs.append(cost)\r\n",
    "    row['costs'] = costs\r\n",
    "    return row\r\n",
    "\r\n",
    "d = pd.read_pickle(\"../../results/nprandomdirichlet2345.pkl\")\r\n",
    "d = d[d['states']==states].head(100)\r\n",
    "d = load_frame(d=d)\r\n",
    "plot = d.apply(lambda row:getcosts(row,listsyms),axis=1)\r\n",
    "plot.to_pickle(\"../../results/test/histbestsymXstates\"+str(states)+\".pkl\") "
   ],
   "outputs": [],
   "metadata": {}
  },
  {
   "cell_type": "markdown",
   "source": [
    "## LOAD GENERATED HISTDATA"
   ],
   "metadata": {}
  },
  {
   "cell_type": "code",
   "execution_count": null,
   "source": [
    "# hist of top5 classes \r\n",
    "unique5=False\r\n",
    "costs = plot['costs'].values\r\n",
    "top = 5\r\n",
    "histdata = {n:[] for n in np.arange(top)+1}\r\n",
    "for cost in costs:\r\n",
    "    arrconds = []\r\n",
    "    for i,c in enumerate(cost):\r\n",
    "        kx = [k for k,v in symids.items() if i in v][0]\r\n",
    "        arrconds.append([kx,c])\r\n",
    "    arr = np.array(arrconds)\r\n",
    "    arr = arr[arr[:, 1].argsort()]\r\n",
    "    \r\n",
    "    if unique5:\r\n",
    "        # only keep top 5 unique values\r\n",
    "        top5 = arr[np.unique(arr[:,1], return_index=True)[1]][:top]\r\n",
    "    else:\r\n",
    "        top5=arr[:top]\r\n",
    "    for i,c in enumerate(top5[:,0]):\r\n",
    "        histdata[i+1].append(c)\r\n",
    "        \r\n",
    "histd = pd.DataFrame(data=histdata)\r\n",
    "histd = histd.melt(value_vars=list(histdata.keys()),\r\n",
    "              var_name='Place', value_name='Class')\r\n",
    "\r\n",
    "sns.set_context(\"paper\", font_scale = 1.8, rc={\"legend.fontsize\": 13})\r\n",
    "g=sns.histplot(data=histd,x='Class',hue='Place',multiple='dodge',palette='tab10')\r\n",
    "plt.xticks(rotation=25)\r\n",
    "plt.title('Top 5 lowest cost '+\"States = \"+str(states))\r\n",
    "fig = g.get_figure()\r\n",
    "plt.show()"
   ],
   "outputs": [],
   "metadata": {}
  },
  {
   "cell_type": "markdown",
   "source": [
    "## Compute for each constructed SRVs S the conditional entropy H(Sfound|S) and best of 5"
   ],
   "metadata": {}
  },
  {
   "cell_type": "code",
   "execution_count": null,
   "source": [
    "def bestoffive(row,syms,top=5,lenX=2):\r\n",
    "    print(row['systemID'],datetime.fromtimestamp(time.time()))\r\n",
    "    conds = row['H(Sfound|Sym)']\r\n",
    "    cond_top5 = sorted(zip(np.arange(len(conds)),conds), key=lambda t: t[1])[:top]\r\n",
    "    bestids = np.array(cond_top5,dtype=int)[:,0]\r\n",
    "    sym_top5 = list(map(syms.__getitem__,bestids))\r\n",
    "    jointp = row['pXS'].copy()\r\n",
    "    for s in sym_top5:\r\n",
    "        jointp = appendtoPXS(lenX,row['pX'],jointp,s)\r\n",
    "    ditd = dit.Distribution.from_ndarray(jointp)\r\n",
    "    synvars = list(range(lenX+1,len(ditd.rvs)))\r\n",
    "    row['H(Sfound|bestof)'] = dit.shannon.conditional_entropy(ditd,[lenX],synvars)/row['H(S)']\r\n",
    "    row['H(Sfound|Smin)'] = cond_top5[0][1]\r\n",
    "    return row\r\n",
    "    \r\n",
    "df = pd.read_pickle(\"../../results/test/histbestsymXstates\"+str(states)+\".pkl\")\r\n",
    "df = d.apply(lambda row:normcondentropy(row,listsyms),axis=1)\r\n",
    "df = df.apply(lambda row:bestoffive(row,listsyms),axis=1)\r\n",
    "df.to_pickle(\"../../results/test/histbestsymSfoundstates\"+str(states)+\".pkl\") \r\n",
    "plot=pd.read_pickle(\"../../results/test/histbestsymSfoundstates\"+str(states)+\".pkl\")\r\n",
    "plot = plot.head(100)"
   ],
   "outputs": [],
   "metadata": {}
  },
  {
   "cell_type": "code",
   "execution_count": null,
   "source": [
    "df = plot\r\n",
    "allconds = df['H(Sfound|Sym)'].values\r\n",
    "histdata = {n:[] for n in np.arange(5)+1}\r\n",
    "unique5=False\r\n",
    "for conds in allconds:\r\n",
    "    arrconds = []\r\n",
    "    for i,c in enumerate(conds):\r\n",
    "        kx = [k for k,v in symids.items() if i in v][0]\r\n",
    "        arrconds.append([kx,c])\r\n",
    "    arr = np.array(arrconds)\r\n",
    "    arr = arr[arr[:, 1].argsort()]\r\n",
    "    \r\n",
    "    if unique5:\r\n",
    "        # only keep top 5 unique values\r\n",
    "        top5 = arr[np.unique(arr[:,1], return_index=True)[1]][:5]\r\n",
    "    else:\r\n",
    "        top5=arr[:5]\r\n",
    "    for i,c in enumerate(top5[:,0]):\r\n",
    "        histdata[i+1].append(c)\r\n",
    "        \r\n",
    "histd = pd.DataFrame(data=histdata)\r\n",
    "histd = histd.melt(value_vars=list(histdata.keys()),\r\n",
    "              var_name='Place', value_name='Class')\r\n",
    "\r\n",
    "sns.set_context(\"paper\", font_scale = 1.8, rc={\"legend.fontsize\": 13})\r\n",
    "g=sns.histplot(data=histd,x='Class',hue='Place',multiple='dodge',palette='tab10')\r\n",
    "plt.xticks(rotation=15)\r\n",
    "plt.title('Top 5 lowest H(Sfound|Sym)'+\" States = \"+str(states))\r\n",
    "fig = g.get_figure()\r\n",
    "plt.show()\r\n"
   ],
   "outputs": [],
   "metadata": {}
  },
  {
   "cell_type": "code",
   "execution_count": null,
   "source": [],
   "outputs": [],
   "metadata": {}
  }
 ],
 "metadata": {
  "celltoolbar": "Geen",
  "kernelspec": {
   "name": "python3",
   "display_name": "Python 3.7.0 64-bit (conda)"
  },
  "language_info": {
   "codemirror_mode": {
    "name": "ipython",
    "version": 3
   },
   "file_extension": ".py",
   "mimetype": "text/x-python",
   "name": "python",
   "nbconvert_exporter": "python",
   "pygments_lexer": "ipython3",
   "version": "3.7.0"
  },
  "interpreter": {
   "hash": "2cbab85b0a12cacaa8de87af201aadcb03d557d3781c80a303422245c6394e20"
  }
 },
 "nbformat": 4,
 "nbformat_minor": 5
}