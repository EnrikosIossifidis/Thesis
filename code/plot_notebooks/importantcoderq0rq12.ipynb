{
 "cells": [
  {
   "cell_type": "code",
   "execution_count": 12,
   "id": "10ae43ac",
   "metadata": {},
   "outputs": [],
   "source": [
    "import os\n",
    "import random\n",
    "import time\n",
    "import glob\n",
    "import json\n",
    "import dit\n",
    "import itertools\n",
    "import time\n",
    "import numpy as np\n",
    "import pickle\n",
    "import matplotlib.pyplot as plt\n",
    "from datetime import datetime\n",
    "from matplotlib import gridspec\n",
    "import seaborn as sns;sns.set()\n",
    "import pandas as pd\n",
    "from dit import Distribution\n",
    "from scipy.optimize import minimize\n",
    "from functools import partial\n",
    "\n",
    "os.chdir(\"../\")\n",
    "from helpers.group_helpers import classify_syms, srv_to_mat\n",
    "from helpers.compare_helpers import appendtoPXS,load_frame,addbestsym\n",
    "from helpers.helpers import SeabornFig2Grid\n",
    "from jointpdfpython3.measures import synergistic_entropy_upper_bound, append_random_srv\n",
    "from jointpdfpython3.params_matrix import params2matrix_incremental,matrix2params_incremental\n",
    "from jointpdfpython3.JointProbabilityMatrix import JointProbabilityMatrix\n",
    "from jointpdfpython3.toy_functions import append_variables_with_target_mi\n",
    "from syndisc.syndisc import self_disclosure_channel\n",
    "os.chdir(\"./plot_notebooks\")"
   ]
  },
  {
   "cell_type": "markdown",
   "id": "5acad147",
   "metadata": {},
   "source": [
    "## Convergence difference in WMS over number of steps"
   ]
  },
  {
   "cell_type": "code",
   "execution_count": 8,
   "id": "cecfa757",
   "metadata": {},
   "outputs": [],
   "source": [
    "from scipy.optimize import minimize\n",
    "\n",
    "class OpObj(object):\n",
    "    def __init__(self, jXS,subjects,sid):\n",
    "        self.jXS = jXS\n",
    "        self.subjects=subjects\n",
    "        self.sid=sid\n",
    "        self.f = np.full(shape=(500,), fill_value=np.NaN)\n",
    "        self.count = 0\n",
    "    def _fun(self):\n",
    "        totmi = self.jXS.mutual_information(self.subjects,[self.sid])\n",
    "        indivmis = sum([self.jXS.mutual_information([i],[self.sid]) for i in self.subjects])        \n",
    "        return totmi-indivmis\n",
    "#         return self.jXS.synergistic_information_naive()\n",
    "    \n",
    "def cb(xk, obj=None):\n",
    "    obj.f[obj.count] = obj._fun()\n",
    "    obj.count += 1\n",
    "\n",
    "def costf(srvparams,jXS,lenJXS,parX,subjects,upper):\n",
    "    params2matrix_incremental(jXS,parX+list(srvparams))\n",
    "    totmi = jXS.mutual_information(subjects,[lenJXS-1])\n",
    "    indivmis = sum([jXS.mutual_information([i],[lenJXS-1]) for i in subjects])\n",
    "    cost=abs((upper-(totmi-indivmis))/upper)\n",
    "    if totmi != 0:\n",
    "        return cost+((indivmis/totmi))\n",
    "    else:\n",
    "        return cost+(indivmis)\n",
    "\n",
    "minimize_options = {'ftol': 1e-6}\n",
    "def symsyninfo(states,lenX,jX,syms,initialtype='first',costf=costf):\n",
    "    subjects = list(range(lenX))\n",
    "    parX = matrix2params_incremental(jX)\n",
    "    upper = synergistic_entropy_upper_bound(jX)\n",
    "    jXS = append_random_srv(jX,parX,1)\n",
    "    lenJXS = len(jXS)\n",
    "    bestsymid=-1\n",
    "    # get initial guess of best sym\n",
    "    if initialtype!='random':\n",
    "        if initialtype=='first':\n",
    "            syms=[syms[0]]\n",
    "        pXSym,bestsymid = addbestsym(lenX,jX,upper,syms)\n",
    "        jXS.joint_probabilities.joint_probabilities = pXSym\n",
    "\n",
    "    freeparams = (states**(lenJXS))-(states**(len(jX)))\n",
    "    symparams = matrix2params_incremental(jXS)[-freeparams:]\n",
    "    subjects = np.arange(lenX)\n",
    "    op_obj = OpObj(jXS,subjects,lenJXS-1)\n",
    "    optres_ix = minimize(costf,\n",
    "                            symparams,\n",
    "                            bounds=[(0.0, 1.0)]*freeparams,\n",
    "                            callback=partial(cb,obj=op_obj),\n",
    "                            args=(jXS,lenJXS,parX,subjects,upper),options=minimize_options)\n",
    "    params2matrix_incremental(jXS,parX+list(optres_ix.x))\n",
    "    return bestsymid,jXS, op_obj"
   ]
  },
  {
   "cell_type": "code",
   "execution_count": 9,
   "id": "a05d01bf",
   "metadata": {},
   "outputs": [
    {
     "name": "stdout",
     "output_type": "stream",
     "text": [
      "SYS ID 0 2022-05-11 20:00:56.780742\n"
     ]
    },
    {
     "name": "stderr",
     "output_type": "stream",
     "text": [
      "C:\\Users\\enrik\\Desktop\\Mabomba\\Studie\\MasterCS\\Thesis\\code\\jointpdfpython3\\JointProbabilityMatrix.py:527: FutureWarning: elementwise comparison failed; returning scalar instead, but in the future will perform elementwise comparison\n",
      "  if item == 'all':\n"
     ]
    },
    {
     "name": "stdout",
     "output_type": "stream",
     "text": [
      "SYS ID 1 2022-05-11 20:01:01.494311\n",
      "SYS ID 2 2022-05-11 20:01:05.775651\n",
      "SYS ID 3 2022-05-11 20:01:11.846604\n",
      "SYS ID 4 2022-05-11 20:01:16.167745\n",
      "SYS ID 5 2022-05-11 20:01:21.634544\n",
      "SYS ID 6 2022-05-11 20:01:26.154009\n",
      "SYS ID 7 2022-05-11 20:01:33.229247\n",
      "SYS ID 8 2022-05-11 20:01:37.610712\n",
      "SYS ID 9 2022-05-11 20:01:45.499640\n",
      "SYS ID 10 2022-05-11 20:01:51.505877\n",
      "SYS ID 11 2022-05-11 20:02:01.026398\n",
      "SYS ID 12 2022-05-11 20:02:07.113297\n",
      "SYS ID 13 2022-05-11 20:02:13.034005\n",
      "SYS ID 14 2022-05-11 20:02:18.222642\n",
      "SYS ID 15 2022-05-11 20:02:26.391052\n",
      "SYS ID 16 2022-05-11 20:02:30.672936\n",
      "SYS ID 17 2022-05-11 20:02:35.458623\n",
      "SYS ID 18 2022-05-11 20:02:44.322228\n",
      "SYS ID 19 2022-05-11 20:02:53.289450\n",
      "SYS ID 20 2022-05-11 20:03:03.866159\n",
      "SYS ID 21 2022-05-11 20:03:11.579595\n",
      "SYS ID 22 2022-05-11 20:03:20.605948\n",
      "SYS ID 23 2022-05-11 20:03:24.445719\n",
      "SYS ID 24 2022-05-11 20:03:36.691367\n"
     ]
    }
   ],
   "source": [
    "x=np.linspace(1,500,500)\n",
    "states = 2\n",
    "lenX = 2\n",
    "subjects = np.arange(lenX)\n",
    "t='random'\n",
    "cursyms = []\n",
    "data = {'systemID':[],'repeats':[],'WMS(X;S)':[],'upper':[],'difference WMS':[],'Golden Mean':[],'difference GM':[]}\n",
    "samples = 25\n",
    "repeats = 7\n",
    "for sys in range(samples):\n",
    "    print(\"SYS ID\",sys,datetime.fromtimestamp(time.time()))\n",
    "    jXS = JointProbabilityMatrix(lenX+1,states)\n",
    "    lenJXS = len(jXS)\n",
    "    upper = synergistic_entropy_upper_bound(jXS[subjects])\n",
    "    parXS = matrix2params_incremental(jXS)\n",
    "    parX = parXS[:(states**lenX)-1]\n",
    "    freeparams = len(parXS[(states**lenX)-1:])\n",
    "    bestWMS = 0\n",
    "    bestGM = 0\n",
    "    for test in range(1,repeats+1):\n",
    "        opts = []\n",
    "        costs = []\n",
    "        for _ in range(test):\n",
    "            parS = np.random.random(freeparams)\n",
    "            optres_ix = minimize(costf,\n",
    "                                    parS,\n",
    "                                    bounds=[(0.0, 1.0)]*freeparams,\n",
    "                                    args=(jXS,lenJXS,parX,subjects,upper),options=minimize_options)\n",
    "            opts.append(optres_ix.x)\n",
    "            costs.append(optres_ix.fun)\n",
    "        opt = opts[costs.index(min(costs))]\n",
    "        params2matrix_incremental(jXS,parX+list(opt))\n",
    "        totmi = jXS.mutual_information(subjects,[lenJXS-1])\n",
    "        indivmis = [jXS.mutual_information([i],[lenJXS-1]) for i in subjects]\n",
    "        data['systemID'].append(sys)\n",
    "        data['repeats'].append(test)\n",
    "        data['WMS(X;S)'].append(totmi-sum(indivmis))\n",
    "        data['Golden Mean'].append(((totmi-sum(indivmis))+(totmi-max(indivmis)))/2)\n",
    "        data['upper'].append(upper)\n",
    "        \n",
    "        if test == 1:\n",
    "            bestWMS = data['WMS(X;S)'][-1]\n",
    "            bestGM = data['Golden Mean'][-1]\n",
    "            data['difference WMS'].append(0)\n",
    "            data['difference GM'].append(0)\n",
    "        else:\n",
    "            data['difference WMS'].append(data['WMS(X;S)'][-1]-bestWMS)\n",
    "            data['difference GM'].append(data['Golden Mean'][-1]-bestGM)\n",
    "            if data['WMS(X;S)'][-1] > bestWMS:\n",
    "                bestWMS=data['WMS(X;S)'][-1]\n",
    "            if data['Golden Mean'][-1] > bestGM:\n",
    "                bestGM=data['Golden Mean'][-1]\n",
    "\n",
    "df = pd.DataFrame(data=data)"
   ]
  },
  {
   "cell_type": "code",
   "execution_count": 23,
   "id": "10bd6538",
   "metadata": {},
   "outputs": [
    {
     "data": {
      "image/png": "[encoded data removed]",
      "text/plain": [
       "<Figure size 432x288 with 1 Axes>"
      ]
     },
     "metadata": {},
     "output_type": "display_data"
    }
   ],
   "source": [
    "# df.to_pickle(\"../../results/test/optimalityjointpdfstates\"+str(states)+\".pkl\")\n",
    "df = pd.read_pickle(\"../../results/test/optimalityjointpdfstates\"+str(3)+\".pkl\")\n",
    "fig, ax = plt.subplots(1,1)\n",
    "ax=sns.pointplot(data=df,x='repeats',y='difference WMS',ci=95)\n",
    "plt.ylabel(\"difference WMS with previous best\")\n",
    "plt.title(\"Convergence scipy.optimize.minimize, states=\"+str(states)+\", systems=\"+str(samples)+\", recalcs=\"+str(repeats))\n",
    "plt.show()"
   ]
  },
  {
   "cell_type": "markdown",
   "id": "0a5132c5",
   "metadata": {},
   "source": [
    "## Scipy optimize to find distribution with exact H(X1),H(X2),I(X1;X2) values"
   ]
  },
  {
   "cell_type": "code",
   "execution_count": 13,
   "id": "5ed7a1ad",
   "metadata": {},
   "outputs": [],
   "source": [
    "def costparams(srvparams,jXS,maxent,relent,relmi):\n",
    "    params2matrix_incremental(jXS,srvparams)\n",
    "#     mi = jXS.mutual_information([0],[1])\n",
    "    ent1 = jXS.entropy([0])\n",
    "    ent2 = jXS.entropy([1])\n",
    "#     maxmi = max(ent1,ent2)\n",
    "    return abs(relent-(ent1/maxent))+abs(relent-(ent2/maxent))\n",
    "#     return (abs(relent-(ent1/maxent))/relent)+(abs(relent-(ent2/maxent))/relent)+(abs(relmi-(mi/maxmi))/relmi)\n"
   ]
  },
  {
   "cell_type": "code",
   "execution_count": null,
   "id": "416a6516",
   "metadata": {},
   "outputs": [
    {
     "name": "stdout",
     "output_type": "stream",
     "text": [
      "0 2022-05-14 19:45:12.923326\n"
     ]
    }
   ],
   "source": [
    "sts = [2,3,4]\n",
    "lenX = 2\n",
    "relents = [0.3,0.5,0.7,0.9]\n",
    "minimize_options = {'ftol': 1e-6}\n",
    "samples=100\n",
    "relmi = None\n",
    "for s in sts:\n",
    "    for j,relent in enumerate(relents):\n",
    "        data = {'states':[],'parX':[],'relent':[],'maxent':[],'relmi':[],'mi':[]}\n",
    "        jX = JointProbabilityMatrix(lenX,s,joint_probs='iid')\n",
    "        lenpars = len(matrix2params_incremental(jX))\n",
    "        maxent = jX.entropy([0])\n",
    "        for i in range(samples):\n",
    "#             data = {'states':[],'parX':[],'relent':[],'maxent':[],'relmi':[],'mi':[]}\n",
    "            ent1=0\n",
    "            ent2=0\n",
    "            mi=0\n",
    "            maxmi=1\n",
    "            try:\n",
    "                while abs(relent-(ent1/maxent))+abs(relent-(ent2/maxent))>0.1:\n",
    "                    opts = []\n",
    "                    costs = []\n",
    "                    for tries in range(50):\n",
    "                        if tries % 25 == 0:\n",
    "                            print(tries,datetime.fromtimestamp(time.time()))\n",
    "                        parX = np.random.random(lenpars)\n",
    "                        optres_ix = minimize(costparams,\n",
    "                                                    parX,\n",
    "                                                    bounds=[(0.0, 1.0)]*len(parX),\n",
    "                                                    args=(jX,maxent,relent,relmi),\n",
    "                                                    options=minimize_options)\n",
    "                        opts.append(optres_ix.x)\n",
    "                        costs.append(optres_ix.fun)\n",
    "                    opt = opts[costs.index(min(costs))]\n",
    "                    params2matrix_incremental(jX,opt)\n",
    "                    mi = jX.mutual_information([0],[1])\n",
    "                    ent1 = jX.entropy([0])\n",
    "                    ent2 = jX.entropy([1])\n",
    "                    maxmi=max(ent1,ent2)\n",
    "                print(i,ent1,ent2,mi)\n",
    "                data['states'].append(s)\n",
    "                data['parX'].append(opt)\n",
    "                data['relent'].append(relent)\n",
    "                data['maxent'].append(maxent)\n",
    "                data['relmi'].append(relmi)\n",
    "                data['mi'].append(mi)\n",
    "#                 df = pd.DataFrame(data=data)\n",
    "#                 df.to_pickle(\"../../results/test/scipyparxstates\"+str(s)+\"-\"+str(j)+\"-\"+str(i)+\".pkl\")\n",
    "            except:\n",
    "                opt = None\n",
    "                print(\"ERROR\")\n",
    "        df = pd.DataFrame(data=data)\n",
    "        df.to_pickle(\"../../results/test/scipyparxstates\"+str(s)+\"-\"+str(j)+\"-\"+str(i)+\".pkl\")\n"
   ]
  },
  {
   "cell_type": "code",
   "execution_count": 3,
   "id": "ff9f882c",
   "metadata": {},
   "outputs": [
    {
     "name": "stdout",
     "output_type": "stream",
     "text": [
      "ERROR\n",
      "ERROR\n",
      "ERROR\n",
      "ERROR\n",
      "ERROR\n",
      "ERROR\n",
      "ERROR\n",
      "ERROR\n"
     ]
    }
   ],
   "source": [
    "dist_type = 'scipyparx'\n",
    "ds = []\n",
    "folder = '../../results/test/'\n",
    "os.chdir(folder)\n",
    "allfiles = glob.glob(\"*.pkl\")\n",
    "files = [file for file in allfiles if dist_type in file]\n",
    "if len(files) != 0:\n",
    "    cur = []\n",
    "    for f in files:\n",
    "        cur.append(pd.read_pickle(f))\n",
    "os.chdir('../../code/plot_notebooks')\n",
    "d = pd.concat(cur)\n",
    "\n",
    "def synsyns(row):\n",
    "    jX = JointProbabilityMatrix(2,row['states'],joint_probs='iid')\n",
    "    params2matrix_incremental(jX, row['parX'])\n",
    "    row['H(X0)'] = jX.entropy([0])\n",
    "    row['H(X1)'] = jX.entropy([1]) \n",
    "    row['I(X0;X1)'] = jX.mutual_information([0],[1])\n",
    "    row['I(X0;X1) level'] = row['I(X0;X1)']/max(row['H(X0)'],row['H(X1)'])\n",
    "    row['syn_upper']=synergistic_entropy_upper_bound(jX)\n",
    "    pX = jX.joint_probabilities.joint_probabilities\n",
    "    ditd = dit.Distribution.from_ndarray(pX)    \n",
    "    try:\n",
    "        row['syndisc_syn'] = self_disclosure_channel(ditd)[0]\n",
    "        if row['syn_upper']>0:\n",
    "            row['syndisc_normsyn'] = row['syndisc_syn']/row['syn_upper']\n",
    "        else:\n",
    "            row['syndisc_normsyn'] = row['syndisc_syn']\n",
    "    except:\n",
    "        print(\"ERROR\")\n",
    "    return row\n",
    "\n",
    "data = d.apply(lambda row:synsyns(row),axis=1)\n",
    "data['H(X0) level'] = data['H(X0)']/data['maxent']\n",
    "data['H(X1) level'] = data['H(X1)']/data['maxent']\n",
    "# data = data.dropna()\n",
    "data.to_pickle('../../results/test/sameentmultiplemistates'+str(234)+'.pkl')\n"
   ]
  },
  {
   "cell_type": "markdown",
   "id": "cbdbf468",
   "metadata": {},
   "source": [
    "## plot and load"
   ]
  },
  {
   "cell_type": "code",
   "execution_count": 10,
   "id": "244492ef",
   "metadata": {},
   "outputs": [
    {
     "data": {
      "image/png": "[encoded data removed]",
      "text/plain": [
       "<Figure size 432x288 with 1 Axes>"
      ]
     },
     "metadata": {},
     "output_type": "display_data"
    }
   ],
   "source": [
    "df = pd.read_pickle('../../results/test/sameentmultiplemistates'+str(234)+'.pkl')\n",
    "bins = np.linspace(0,1,11)\n",
    "labels = np.arange(10)\n",
    "df['binned'] = pd.cut(df['I(X0;X1) level'], bins=bins, labels=labels)\n",
    "\n",
    "hue='states'\n",
    "sns.pointplot(data=df,x='binned',y='syndisc_normsyn',hue=hue,palette='tab10',join=False)\n",
    "plt.legend(bbox_to_anchor=(1.05, 1), loc=2, borderaxespad=0.01,title=hue)\n",
    "plt.show()\n",
    "\n",
    "# sns.pointplot(data=df,x='relent',y='syndisc_normsyn',hue=hue,palette='viridis')\n",
    "# plt.legend(bbox_to_anchor=(1.05, 1), loc=2, borderaxespad=0.01,title=hue)"
   ]
  },
  {
   "cell_type": "markdown",
   "id": "d33d9b48",
   "metadata": {},
   "source": [
    "## Given H(X1)=max, compute syn info for different I(X1;X2) levels and states=[2,3,4]"
   ]
  },
  {
   "cell_type": "code",
   "execution_count": 3,
   "id": "22dea04d",
   "metadata": {},
   "outputs": [],
   "source": [
    "statess = [2,3,4]\n",
    "lenX = 1\n",
    "allinputs = {}\n",
    "unients = []\n",
    "for states in statess:\n",
    "    if states == 2:\n",
    "        middle = [0.5]\n",
    "    elif states==3:\n",
    "        middle = [1/3,0.5]\n",
    "    else:\n",
    "        middle = [1/4,1/3,1/2]\n",
    "\n",
    "    steps = 5\n",
    "    inputs = np.linspace(np.zeros(len(middle))+0.1,middle,steps)\n",
    "    allinputs[states]=[inputs[-1]]\n",
    "    jX = JointProbabilityMatrix(lenX,states,joint_probs='iid')\n",
    "    unient = jX.entropy([0])\n",
    "    unients.append(unient)  "
   ]
  },
  {
   "cell_type": "code",
   "execution_count": 4,
   "id": "427743e1",
   "metadata": {},
   "outputs": [
    {
     "name": "stdout",
     "output_type": "stream",
     "text": [
      "[0.5] 2022-05-10 17:29:32.878410\n",
      "[0.33333333 0.5       ] 2022-05-10 17:30:27.934180\n",
      "[0.25       0.33333333 0.5       ] 2022-05-10 17:33:05.909409\n"
     ]
    }
   ],
   "source": [
    "data={'H(X1)':[],'I(X1;X2)':[],'H(X1) level':[],'I(X1;X2) level':[],\\\n",
    "      'pX':[],'syn_upper':[],'states':[]}\n",
    "repeats=25\n",
    "for s in statess:\n",
    "    inps = allinputs[s]\n",
    "    mi_levels = np.linspace(0.1,0.9,9)\n",
    "    jX = JointProbabilityMatrix(lenX,s)\n",
    "    jpbs = []\n",
    "    for ix,i in enumerate(inps):\n",
    "        print(i,datetime.fromtimestamp(time.time()))\n",
    "        params2matrix_incremental(jX,i)\n",
    "        curent = jX.entropy()\n",
    "        for mi in mi_levels:\n",
    "            for _ in range(repeats):\n",
    "                curjX = jX.copy()\n",
    "                append_variables_with_target_mi(curjX,1,curent*mi)\n",
    "                jpbs.append(curjX)\n",
    "                data['H(X1) level'].append(curent/unients[s-2])\n",
    "                data['I(X1;X2) level'].append(mi)\n",
    "                data['H(X1)'].append(curent)\n",
    "                data['I(X1;X2)'].append(curjX.mutual_information([0],[1]))\n",
    "                data['states'].append(s)\n",
    "                data['pX'].append(curjX.joint_probabilities.joint_probabilities)\n",
    "                data['syn_upper'].append(synergistic_entropy_upper_bound(curjX))\n",
    "data = pd.DataFrame(data=data)\n",
    "data.to_pickle('../../results/test/testlevel.pkl')"
   ]
  },
  {
   "cell_type": "code",
   "execution_count": 5,
   "id": "594669e1",
   "metadata": {},
   "outputs": [
    {
     "name": "stdout",
     "output_type": "stream",
     "text": [
      "ERROR\n",
      "ERROR\n",
      "ERROR\n",
      "ERROR\n"
     ]
    }
   ],
   "source": [
    "data = pd.read_pickle('../../results/test/testlevel.pkl')\n",
    "\n",
    "def syndiscsyns(row):\n",
    "    ditd = dit.Distribution.from_ndarray(row['pX'])    \n",
    "    \n",
    "    try:\n",
    "        row['syndisc_syn'] = self_disclosure_channel(ditd)[0]\n",
    "        if row['syn_upper']>0:\n",
    "            row['syndisc_normsyn'] = row['syndisc_syn']/row['syn_upper']\n",
    "        else:\n",
    "            row['syndisc_normsyn'] = row['syndisc_syn']\n",
    "    except:\n",
    "        print(\"ERROR\")\n",
    "    return row\n",
    "\n",
    "data = data.apply(lambda row:syndiscsyns(row),axis=1)\n",
    "data = data.dropna()\n",
    "data.to_pickle('../../results/test/testlevel.pkl')"
   ]
  },
  {
   "cell_type": "code",
   "execution_count": 6,
   "id": "8a66eb7b",
   "metadata": {},
   "outputs": [
    {
     "data": {
      "text/plain": [
       "(-0.10000000000021017, 0.9937173346925056)"
      ]
     },
     "execution_count": 6,
     "metadata": {},
     "output_type": "execute_result"
    },
    {
     "data": {
      "image/png": "[encoded data removed]",
      "text/plain": [
       "<Figure size 432x288 with 1 Axes>"
      ]
     },
     "metadata": {},
     "output_type": "display_data"
    }
   ],
   "source": [
    "data = pd.read_pickle('../../results/test/testlevel.pkl')\n",
    "\n",
    "plot = data[data['H(X1) level']==1]\n",
    "plot=data\n",
    "hue = 'states'\n",
    "sns.pointplot(data=plot,x='I(X1;X2) level',y='syndisc_normsyn',hue=hue)\n",
    "plt.legend(bbox_to_anchor=(1.05, 1), loc=2, borderaxespad=0.01,title=hue)\n",
    "plt.title(\"Change of found syn info for different I(X1;X2) (H(X1) is max.)\")\n",
    "plt.xticks(rotation=90)\n",
    "plt.ylim(plot['syndisc_normsyn'].min()-0.1,plot['syndisc_normsyn'].max())"
   ]
  },
  {
   "cell_type": "code",
   "execution_count": null,
   "id": "2449812b",
   "metadata": {},
   "outputs": [],
   "source": []
  }
 ],
 "metadata": {
  "kernelspec": {
   "display_name": "Python 3",
   "language": "python",
   "name": "python3"
  },
  "language_info": {
   "codemirror_mode": {
    "name": "ipython",
    "version": 3
   },
   "file_extension": ".py",
   "mimetype": "text/x-python",
   "name": "python",
   "nbconvert_exporter": "python",
   "pygments_lexer": "ipython3",
   "version": "3.7.0"
  }
 },
 "nbformat": 4,
 "nbformat_minor": 5
}
